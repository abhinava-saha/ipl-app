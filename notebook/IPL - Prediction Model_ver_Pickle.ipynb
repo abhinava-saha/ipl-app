{
 "cells": [
  {
   "cell_type": "markdown",
   "metadata": {
    "toc": true
   },
   "source": [
    "<h1>Table of Contents<span class=\"tocSkip\"></span></h1>\n",
    "<div class=\"toc\"><ul class=\"toc-item\"><li><ul class=\"toc-item\"><li><span><a href=\"#Encode-the-Categorical-columns:-City,-Toss_decision-and-Venue.\" data-toc-modified-id=\"Encode-the-Categorical-columns:-City,-Toss_decision-and-Venue.-0.1\"><span class=\"toc-item-num\">0.1&nbsp;&nbsp;</span>Encode the Categorical columns: City, Toss_decision and Venue.</a></span></li></ul></li><li><span><a href=\"#Split-dataset-X-into-Train-and-Test\" data-toc-modified-id=\"Split-dataset-X-into-Train-and-Test-1\"><span class=\"toc-item-num\">1&nbsp;&nbsp;</span>Split dataset X into Train and Test</a></span></li><li><span><a href=\"#Model-Performance-Metrics-Function.\" data-toc-modified-id=\"Model-Performance-Metrics-Function.-2\"><span class=\"toc-item-num\">2&nbsp;&nbsp;</span>Model Performance Metrics Function.</a></span><ul class=\"toc-item\"><li><ul class=\"toc-item\"><li><span><a href=\"#Compare-ROC-curves-and-Calculate-Area-under-the-curve-for-all-models\" data-toc-modified-id=\"Compare-ROC-curves-and-Calculate-Area-under-the-curve-for-all-models-2.0.1\"><span class=\"toc-item-num\">2.0.1&nbsp;&nbsp;</span>Compare ROC curves and Calculate Area under the curve for all models</a></span></li></ul></li></ul></li><li><span><a href=\"#Building-a-Random-Forest-Classifier-Model-and-fit-it-on-the-Training-Set\" data-toc-modified-id=\"Building-a-Random-Forest-Classifier-Model-and-fit-it-on-the-Training-Set-3\"><span class=\"toc-item-num\">3&nbsp;&nbsp;</span>Building a Random Forest Classifier Model and fit it on the Training Set</a></span><ul class=\"toc-item\"><li><span><a href=\"#Grid-Search-Cross-Validation-of-Random-Forest-Features\" data-toc-modified-id=\"Grid-Search-Cross-Validation-of-Random-Forest-Features-3.1\"><span class=\"toc-item-num\">3.1&nbsp;&nbsp;</span>Grid Search Cross Validation of Random Forest Features</a></span></li><li><span><a href=\"#Generate-Training-data-Model-performance-Metrics\" data-toc-modified-id=\"Generate-Training-data-Model-performance-Metrics-3.2\"><span class=\"toc-item-num\">3.2&nbsp;&nbsp;</span>Generate Training data Model performance Metrics</a></span></li></ul></li><li><span><a href=\"#Verify-the-Predictions-on-Testing-Dataset\" data-toc-modified-id=\"Verify-the-Predictions-on-Testing-Dataset-4\"><span class=\"toc-item-num\">4&nbsp;&nbsp;</span>Verify the Predictions on Testing Dataset</a></span></li><li><span><a href=\"#Get-Predicted-Winner-for-the-given-input-below.\" data-toc-modified-id=\"Get-Predicted-Winner-for-the-given-input-below.-5\"><span class=\"toc-item-num\">5&nbsp;&nbsp;</span>Get Predicted Winner for the given input below.</a></span></li></ul></div>"
   ]
  },
  {
   "cell_type": "code",
   "execution_count": 58,
   "metadata": {
    "ExecuteTime": {
     "end_time": "2023-04-15T11:30:39.338336Z",
     "start_time": "2023-04-15T11:30:39.304462Z"
    }
   },
   "outputs": [],
   "source": [
    "#Importing libraries\n",
    "import pandas as pd\n",
    "import numpy as np\n",
    "import matplotlib.pyplot as plt\n",
    "import seaborn as sns\n",
    "import pickle\n",
    "\n",
    "from sklearn.model_selection import train_test_split\n",
    "from sklearn.preprocessing import StandardScaler\n",
    "from sklearn.neural_network import MLPClassifier\n",
    "from sklearn.tree import DecisionTreeClassifier, export_graphviz\n",
    "from sklearn.ensemble import RandomForestClassifier\n",
    "from sklearn.metrics import confusion_matrix,classification_report,roc_auc_score,accuracy_score,roc_auc_score,roc_curve\n"
   ]
  },
  {
   "cell_type": "code",
   "execution_count": 83,
   "metadata": {
    "ExecuteTime": {
     "end_time": "2023-04-15T11:55:03.988555Z",
     "start_time": "2023-04-15T11:55:03.960090Z"
    }
   },
   "outputs": [],
   "source": [
    "matches=pd.read_csv('matches.csv')\n",
    "#deliveries=pd.read_csv('deliveries.csv')"
   ]
  },
  {
   "cell_type": "code",
   "execution_count": 84,
   "metadata": {
    "ExecuteTime": {
     "end_time": "2023-04-15T11:55:05.003257Z",
     "start_time": "2023-04-15T11:55:04.993643Z"
    }
   },
   "outputs": [],
   "source": [
    "matches2020 = matches.copy()"
   ]
  },
  {
   "cell_type": "code",
   "execution_count": 85,
   "metadata": {
    "ExecuteTime": {
     "end_time": "2023-04-15T11:55:05.690963Z",
     "start_time": "2023-04-15T11:55:05.674059Z"
    }
   },
   "outputs": [],
   "source": [
    "matches.drop(columns=['umpire1','umpire2','umpire3','id','date','result','dl_applied'], inplace=True)"
   ]
  },
  {
   "cell_type": "code",
   "execution_count": 86,
   "metadata": {
    "ExecuteTime": {
     "end_time": "2023-04-15T11:55:06.327701Z",
     "start_time": "2023-04-15T11:55:06.309315Z"
    }
   },
   "outputs": [],
   "source": [
    "matches.dropna(axis=0, subset=['season', 'winner'], inplace=True)"
   ]
  },
  {
   "cell_type": "code",
   "execution_count": 87,
   "metadata": {
    "ExecuteTime": {
     "end_time": "2023-04-15T11:55:06.975499Z",
     "start_time": "2023-04-15T11:55:06.952819Z"
    }
   },
   "outputs": [],
   "source": [
    "matches1 = matches[['season','team1','team2','city','toss_decision','toss_winner','venue','winner']].copy()"
   ]
  },
  {
   "cell_type": "markdown",
   "metadata": {},
   "source": [
    "### Encode the Categorical columns: City, Toss_decision and Venue."
   ]
  },
  {
   "cell_type": "code",
   "execution_count": 88,
   "metadata": {
    "ExecuteTime": {
     "end_time": "2023-04-15T11:55:08.566825Z",
     "start_time": "2023-04-15T11:55:08.553599Z"
    }
   },
   "outputs": [],
   "source": [
    "# Create dictionary of Team names and team codes.\n",
    "teams = {'team_names': {'Chennai Super Kings':'CSK', 'Deccan Chargers':'DCH', 'Delhi Capitals':'DC',\n",
    "       'Delhi Daredevils':'DD', 'Gujarat Lions':'GL', 'Kings XI Punjab':'KXIP',\n",
    "       'Kochi Tuskers Kerala':'KTK', 'Kolkata Knight Riders':'KKR', 'Mumbai Indians':'MI',\n",
    "       'Pune Warriors':'PW', 'Rajasthan Royals':'RR', 'Rising Pune Supergiant':'RPS',\n",
    "       'Rising Pune Supergiants':'RPS', 'Royal Challengers Bangalore':'RCB',\n",
    "       'Sunrisers Hyderabad':'SRH', 'Tie':'TIE'}, \n",
    "         \n",
    "         'team_codes': {'MI':1, 'CSK':2, 'KKR':3, 'RCB':4, 'KXIP':5, 'RR':6, 'SRH':7, 'DC':8,   \n",
    "              'DD':9, 'DCH':10, 'GL':11, 'KTK':12, 'PW':13, 'RPS':14, 'TIE':15},\n",
    "         \n",
    "         'team_codes_rev': {1:'MI', 2:'CSK', 3:'KKR', 4:'RCB', 5:'KXIP', 6:'RR', 7:'SRH', 8:'DC',   \n",
    "              9:'DD', 10:'DCH', 11:'GL', 12:'KTK', 13:'PW', 14:'RPS', 15:'TIE'}\n",
    "        }"
   ]
  },
  {
   "cell_type": "code",
   "execution_count": 89,
   "metadata": {
    "ExecuteTime": {
     "end_time": "2023-04-15T11:55:09.797860Z",
     "start_time": "2023-04-15T11:55:09.775679Z"
    }
   },
   "outputs": [],
   "source": [
    "# Encode venue, city and toss_decision columns using Sklearn LabelEncoder\n",
    "\n",
    "from sklearn.preprocessing import LabelEncoder\n",
    "le_venue = LabelEncoder()\n",
    "le_venue = le_venue.fit(matches1['venue'])\n",
    "le_city = LabelEncoder()\n",
    "le_city = le_city.fit(matches1['city'])\n",
    "le_toss = LabelEncoder()\n",
    "le_toss = le_toss.fit(matches1['toss_decision'])\n",
    "\n",
    "def to_numerical(df, teams, le_venue, le_city, le_toss):\n",
    "    df.replace(teams['team_names'], inplace=True)\n",
    "    df.replace(teams['team_codes'], inplace=True)\n",
    "    \n",
    "    df['venue'] = le_venue.transform(df['venue'])\n",
    "    df['city'] = le_city.transform(df['city'])\n",
    "    df['toss_decision'] = le_toss.transform(df['toss_decision'])\n",
    "    df['season'] -= 2007\n",
    "    return df"
   ]
  },
  {
   "cell_type": "code",
   "execution_count": 90,
   "metadata": {
    "ExecuteTime": {
     "end_time": "2023-04-15T11:55:10.824074Z",
     "start_time": "2023-04-15T11:55:10.809073Z"
    }
   },
   "outputs": [],
   "source": [
    "# Define function to get team name passing team code.\n",
    "def get_team_name(team_no, teams):\n",
    "    team = team_no\n",
    "    team_codes = teams['team_codes']\n",
    "    team_names = teams['team_names']\n",
    "    teamcode = list(team_codes.keys())[list(team_codes.values()).index(team)]\n",
    "    teamname = list(team_names.keys())[list(team_names.values()).index(teamcode)]\n",
    "    #print (\"Team {} is {}\".format(team, teamname))\n",
    "    return teamname"
   ]
  },
  {
   "cell_type": "code",
   "execution_count": 91,
   "metadata": {
    "ExecuteTime": {
     "end_time": "2023-04-15T11:55:12.318033Z",
     "start_time": "2023-04-15T11:55:12.302381Z"
    }
   },
   "outputs": [],
   "source": [
    "matches1 = to_numerical(matches1, teams, le_venue, le_city, le_toss)"
   ]
  },
  {
   "cell_type": "markdown",
   "metadata": {},
   "source": [
    "## Split dataset X into Train and Test \n"
   ]
  },
  {
   "cell_type": "code",
   "execution_count": 92,
   "metadata": {
    "ExecuteTime": {
     "end_time": "2023-04-15T11:55:14.127159Z",
     "start_time": "2023-04-15T11:55:14.113268Z"
    }
   },
   "outputs": [
    {
     "data": {
      "text/html": [
       "<div>\n",
       "<style scoped>\n",
       "    .dataframe tbody tr th:only-of-type {\n",
       "        vertical-align: middle;\n",
       "    }\n",
       "\n",
       "    .dataframe tbody tr th {\n",
       "        vertical-align: top;\n",
       "    }\n",
       "\n",
       "    .dataframe thead th {\n",
       "        text-align: right;\n",
       "    }\n",
       "</style>\n",
       "<table border=\"1\" class=\"dataframe\">\n",
       "  <thead>\n",
       "    <tr style=\"text-align: right;\">\n",
       "      <th></th>\n",
       "      <th>season</th>\n",
       "      <th>team1</th>\n",
       "      <th>team2</th>\n",
       "      <th>city</th>\n",
       "      <th>toss_decision</th>\n",
       "      <th>toss_winner</th>\n",
       "      <th>venue</th>\n",
       "    </tr>\n",
       "  </thead>\n",
       "  <tbody>\n",
       "    <tr>\n",
       "      <th>0</th>\n",
       "      <td>1</td>\n",
       "      <td>3</td>\n",
       "      <td>4</td>\n",
       "      <td>2</td>\n",
       "      <td>1</td>\n",
       "      <td>4</td>\n",
       "      <td>17</td>\n",
       "    </tr>\n",
       "    <tr>\n",
       "      <th>1</th>\n",
       "      <td>1</td>\n",
       "      <td>2</td>\n",
       "      <td>5</td>\n",
       "      <td>7</td>\n",
       "      <td>0</td>\n",
       "      <td>2</td>\n",
       "      <td>27</td>\n",
       "    </tr>\n",
       "    <tr>\n",
       "      <th>2</th>\n",
       "      <td>1</td>\n",
       "      <td>6</td>\n",
       "      <td>9</td>\n",
       "      <td>10</td>\n",
       "      <td>0</td>\n",
       "      <td>6</td>\n",
       "      <td>9</td>\n",
       "    </tr>\n",
       "    <tr>\n",
       "      <th>3</th>\n",
       "      <td>1</td>\n",
       "      <td>1</td>\n",
       "      <td>4</td>\n",
       "      <td>24</td>\n",
       "      <td>0</td>\n",
       "      <td>1</td>\n",
       "      <td>40</td>\n",
       "    </tr>\n",
       "    <tr>\n",
       "      <th>4</th>\n",
       "      <td>1</td>\n",
       "      <td>10</td>\n",
       "      <td>3</td>\n",
       "      <td>22</td>\n",
       "      <td>0</td>\n",
       "      <td>10</td>\n",
       "      <td>8</td>\n",
       "    </tr>\n",
       "  </tbody>\n",
       "</table>\n",
       "</div>"
      ],
      "text/plain": [
       "   season  team1  team2  city  toss_decision  toss_winner  venue\n",
       "0       1      3      4     2              1            4     17\n",
       "1       1      2      5     7              0            2     27\n",
       "2       1      6      9    10              0            6      9\n",
       "3       1      1      4    24              0            1     40\n",
       "4       1     10      3    22              0           10      8"
      ]
     },
     "execution_count": 92,
     "metadata": {},
     "output_type": "execute_result"
    }
   ],
   "source": [
    "X = matches1.copy()\n",
    "y = X.pop('winner')\n",
    "X.head()"
   ]
  },
  {
   "cell_type": "code",
   "execution_count": 124,
   "metadata": {
    "ExecuteTime": {
     "end_time": "2023-04-15T15:15:18.396238Z",
     "start_time": "2023-04-15T15:15:18.373335Z"
    }
   },
   "outputs": [
    {
     "data": {
      "text/plain": [
       "(3, 4)"
      ]
     },
     "execution_count": 124,
     "metadata": {},
     "output_type": "execute_result"
    }
   ],
   "source": [
    "X.iloc[0,1] , X.iloc[0,2]"
   ]
  },
  {
   "cell_type": "code",
   "execution_count": 126,
   "metadata": {
    "ExecuteTime": {
     "end_time": "2023-04-15T15:15:43.456201Z",
     "start_time": "2023-04-15T15:15:43.444336Z"
    }
   },
   "outputs": [
    {
     "data": {
      "text/plain": [
       "(3, 4)"
      ]
     },
     "execution_count": 126,
     "metadata": {},
     "output_type": "execute_result"
    }
   ],
   "source": [
    "X['team1'][0], X['team2'][0]"
   ]
  },
  {
   "cell_type": "code",
   "execution_count": 93,
   "metadata": {
    "ExecuteTime": {
     "end_time": "2023-04-15T11:56:01.196700Z",
     "start_time": "2023-04-15T11:56:01.182788Z"
    }
   },
   "outputs": [],
   "source": [
    "test_size = 0.30\n",
    "random_state = 101"
   ]
  },
  {
   "cell_type": "code",
   "execution_count": 94,
   "metadata": {
    "ExecuteTime": {
     "end_time": "2023-04-15T11:56:14.145628Z",
     "start_time": "2023-04-15T11:56:14.130249Z"
    }
   },
   "outputs": [],
   "source": [
    "#split data into 75% training and 25% test data\n",
    "X_train, X_test, y_train, y_test = train_test_split(X,y, test_size=test_size, random_state=random_state)\n",
    "\n",
    "# Checking dimensions on the train and test data\n",
    "#print('X_train:{}; X_test:{}; y_train:{}, y_test:{}'.format(X_train.shape, X_test.shape, y_train.shape, y_test.shape))"
   ]
  },
  {
   "cell_type": "markdown",
   "metadata": {},
   "source": [
    "## Model Performance Metrics Function."
   ]
  },
  {
   "cell_type": "code",
   "execution_count": 55,
   "metadata": {
    "ExecuteTime": {
     "end_time": "2023-04-15T11:29:32.552107Z",
     "start_time": "2023-04-15T11:29:32.538107Z"
    },
    "run_control": {
     "marked": false
    }
   },
   "outputs": [],
   "source": [
    "def classification_model(models, X_predictors, y_actual):\n",
    "    \n",
    "    for model, models_name in models.items():\n",
    "        print(\"Generating Metrics for {} \\n\\t{}\".format(models_name, model))\n",
    "        y_predicted = model.predict(X_predictors)\n",
    "        y_predicted_proba = model.predict_proba(X_predictors)\n",
    "        model_performance_metrics(models_name, y_actual, y_predicted)\n",
    "                "
   ]
  },
  {
   "cell_type": "code",
   "execution_count": 60,
   "metadata": {
    "ExecuteTime": {
     "end_time": "2023-04-15T11:31:09.706069Z",
     "start_time": "2023-04-15T11:31:09.692078Z"
    },
    "run_control": {
     "marked": false
    }
   },
   "outputs": [],
   "source": [
    "def model_performance_metrics(models_name, y_actual, y_predicted):\n",
    "    print('\\nAccuracy for {} model is'.format(models_name),'\\n',accuracy_score(y_actual, y_predicted))\n",
    "    print('\\n')\n",
    "    print('Classification report for {} model is'.format(models_name),'\\n',classification_report(y_actual, y_predicted))\n",
    "    print('\\n')\n",
    "    print('Confusion Matrix for {} model is'.format(models_name))\n",
    "    sns.heatmap(confusion_matrix(y_actual, y_predicted),annot=True,fmt='d',cbar=False)\n",
    "    plt.title('Confusion Matrix for {}'.format(models_name))\n",
    "    plt.xlabel('Predicted Label')\n",
    "    plt.ylabel('Actual Label')\n",
    "    plt.show()"
   ]
  },
  {
   "cell_type": "markdown",
   "metadata": {},
   "source": [
    "#### Compare ROC curves and Calculate Area under the curve for all models"
   ]
  },
  {
   "cell_type": "code",
   "execution_count": 61,
   "metadata": {
    "ExecuteTime": {
     "end_time": "2023-04-15T11:31:13.517065Z",
     "start_time": "2023-04-15T11:31:13.500405Z"
    }
   },
   "outputs": [],
   "source": [
    "def auc_roc(model_name, y_actual, y_predict_proba):\n",
    "    print('Area under the curve for {} Model is'.format(model_name),roc_auc_score(y_actual, y_predict_proba))\n",
    "    \n",
    "    plt.figure(figsize=(12,7))\n",
    "    fpr, tpr, thresholds = roc_curve(y_actual, y_predict_proba)\n",
    "    plt.plot(fpr, tpr, marker='.') \n",
    "    plt.plot([0, 1], [0, 1], linestyle='--')\n",
    "    plt.title('ROC Curve for {}'.format('DecisionTreeClassifier, RandomForestClassifier and ANN'))\n",
    "    plt.xlabel('FPR')\n",
    "    plt.ylabel('TPR')\n",
    "    plt.legend(list(model.values()))\n",
    "    plt.show()"
   ]
  },
  {
   "cell_type": "markdown",
   "metadata": {},
   "source": [
    "## Building a Random Forest Classifier Model and fit it on the Training Set\n"
   ]
  },
  {
   "cell_type": "markdown",
   "metadata": {
    "ExecuteTime": {
     "end_time": "2020-10-09T05:49:59.005908Z",
     "start_time": "2020-10-09T05:49:58.992876Z"
    }
   },
   "source": [
    "### Grid Search Cross Validation of Random Forest Features"
   ]
  },
  {
   "cell_type": "code",
   "execution_count": 18,
   "metadata": {
    "ExecuteTime": {
     "end_time": "2023-04-15T07:48:28.201617Z",
     "start_time": "2023-04-15T07:48:28.184321Z"
    }
   },
   "outputs": [],
   "source": [
    "from sklearn.model_selection import GridSearchCV\n",
    "\n",
    "param_grid = {\n",
    "    'max_depth': [10],\n",
    "    'max_features': [5,6],\n",
    "    'min_samples_leaf': [2,4,5],\n",
    "    'min_samples_split': [5,10],\n",
    "    'n_estimators': [101,151]\n",
    "}\n",
    "\n",
    "rfcl = RandomForestClassifier(random_state=random_state, class_weight='balanced', verbose=0, oob_score=1)\n",
    "\n",
    "grid_search = GridSearchCV(estimator = rfcl, param_grid = param_grid, cv = 5)\n",
    "\n",
    "#RandomForestClassifier(class_weight='balanced', max_depth=10, max_features=7,\n",
    "#                       min_samples_leaf=2, n_estimators=101, random_state=100)"
   ]
  },
  {
   "cell_type": "code",
   "execution_count": 19,
   "metadata": {
    "ExecuteTime": {
     "end_time": "2023-04-15T07:49:03.289807Z",
     "start_time": "2023-04-15T07:48:29.455052Z"
    }
   },
   "outputs": [
    {
     "data": {
      "text/plain": [
       "GridSearchCV(cv=5,\n",
       "             estimator=RandomForestClassifier(class_weight='balanced',\n",
       "                                              oob_score=1, random_state=101),\n",
       "             param_grid={'max_depth': [10], 'max_features': [5, 6],\n",
       "                         'min_samples_leaf': [2, 4, 5],\n",
       "                         'min_samples_split': [5, 10],\n",
       "                         'n_estimators': [101, 151]})"
      ]
     },
     "execution_count": 19,
     "metadata": {},
     "output_type": "execute_result"
    }
   ],
   "source": [
    "grid_search.fit(X, y)"
   ]
  },
  {
   "cell_type": "code",
   "execution_count": 20,
   "metadata": {
    "ExecuteTime": {
     "end_time": "2023-04-15T07:49:13.287971Z",
     "start_time": "2023-04-15T07:49:13.266854Z"
    }
   },
   "outputs": [
    {
     "data": {
      "text/plain": [
       "{'max_depth': 10,\n",
       " 'max_features': 6,\n",
       " 'min_samples_leaf': 5,\n",
       " 'min_samples_split': 5,\n",
       " 'n_estimators': 101}"
      ]
     },
     "execution_count": 20,
     "metadata": {},
     "output_type": "execute_result"
    }
   ],
   "source": [
    "grid_search.best_params_"
   ]
  },
  {
   "cell_type": "code",
   "execution_count": 21,
   "metadata": {
    "ExecuteTime": {
     "end_time": "2023-04-15T07:49:17.897076Z",
     "start_time": "2023-04-15T07:49:17.892890Z"
    }
   },
   "outputs": [],
   "source": [
    "best_grid = grid_search.best_estimator_"
   ]
  },
  {
   "cell_type": "code",
   "execution_count": 22,
   "metadata": {
    "ExecuteTime": {
     "end_time": "2023-04-15T07:49:18.683414Z",
     "start_time": "2023-04-15T07:49:18.661374Z"
    }
   },
   "outputs": [
    {
     "data": {
      "text/plain": [
       "RandomForestClassifier(class_weight='balanced', max_depth=10, max_features=6,\n",
       "                       min_samples_leaf=5, min_samples_split=5,\n",
       "                       n_estimators=101, oob_score=1, random_state=101)"
      ]
     },
     "execution_count": 22,
     "metadata": {},
     "output_type": "execute_result"
    }
   ],
   "source": [
    "best_grid"
   ]
  },
  {
   "cell_type": "code",
   "execution_count": 62,
   "metadata": {
    "ExecuteTime": {
     "end_time": "2023-04-15T11:32:49.408299Z",
     "start_time": "2023-04-15T11:32:49.146579Z"
    }
   },
   "outputs": [
    {
     "data": {
      "image/png": "[encoded data removed]",
      "text/plain": [
       "<Figure size 864x504 with 1 Axes>"
      ]
     },
     "metadata": {
      "needs_background": "light"
     },
     "output_type": "display_data"
    }
   ],
   "source": [
    "x=pd.DataFrame(best_grid.feature_importances_*100,index=X.columns).sort_values(by=0,ascending=False)\n",
    "plt.figure(figsize=(12,7))\n",
    "sns.barplot(x=x[0],y=x.index,palette='rainbow')\n",
    "plt.ylabel('Feature Name')\n",
    "plt.xlabel('Feature Importance in %')\n",
    "plt.title('Feature Importance Plot')\n",
    "plt.show()"
   ]
  },
  {
   "cell_type": "code",
   "execution_count": 45,
   "metadata": {
    "ExecuteTime": {
     "end_time": "2023-04-15T07:58:27.083587Z",
     "start_time": "2023-04-15T07:58:27.065589Z"
    }
   },
   "outputs": [],
   "source": [
    "model_gscv = {best_grid:'GridSearchCV - RandomForest Classifier'}"
   ]
  },
  {
   "cell_type": "markdown",
   "metadata": {},
   "source": [
    "### Generate Training data Model performance Metrics"
   ]
  },
  {
   "cell_type": "code",
   "execution_count": 46,
   "metadata": {
    "ExecuteTime": {
     "end_time": "2023-04-15T07:58:29.577221Z",
     "start_time": "2023-04-15T07:58:28.988407Z"
    }
   },
   "outputs": [
    {
     "name": "stdout",
     "output_type": "stream",
     "text": [
      "\n",
      "Checking the Metrics for Predictions on the Training set\n",
      "\n",
      "Generating Metrics for GridSearchCV - RandomForest Classifier \n",
      "\tRandomForestClassifier(class_weight='balanced', max_depth=10, max_features=6,\n",
      "                       min_samples_leaf=5, min_samples_split=5,\n",
      "                       n_estimators=101, oob_score=1, random_state=101)\n",
      "\n",
      "Accuracy for GridSearchCV - RandomForest Classifier model is \n",
      " 0.62875\n",
      "\n",
      "\n",
      "Classification report for GridSearchCV - RandomForest Classifier model is \n",
      "               precision    recall  f1-score   support\n",
      "\n",
      "           1       0.71      0.62      0.66       117\n",
      "           2       0.77      0.62      0.69       104\n",
      "           3       0.70      0.60      0.65        98\n",
      "           4       0.62      0.49      0.55        91\n",
      "           5       0.63      0.42      0.50        88\n",
      "           6       0.66      0.61      0.64        80\n",
      "           7       0.69      0.65      0.67        63\n",
      "           8       0.61      1.00      0.76        17\n",
      "           9       0.55      0.67      0.60        67\n",
      "          10       0.50      0.93      0.65        29\n",
      "          11       0.71      0.92      0.80        13\n",
      "          12       0.27      1.00      0.43         6\n",
      "          13       0.35      1.00      0.52        12\n",
      "          14       0.56      1.00      0.71        15\n",
      "\n",
      "    accuracy                           0.63       800\n",
      "   macro avg       0.59      0.75      0.63       800\n",
      "weighted avg       0.66      0.63      0.63       800\n",
      "\n",
      "\n",
      "\n",
      "Confusion Matrix for GridSearchCV - RandomForest Classifier model is\n"
     ]
    },
    {
     "data": {
      "image/png": "[encoded data removed]",
      "text/plain": [
       "<Figure size 432x288 with 1 Axes>"
      ]
     },
     "metadata": {
      "needs_background": "light"
     },
     "output_type": "display_data"
    }
   ],
   "source": [
    "print (\"\\nChecking the Metrics for Predictions on the Training set\\n\")\n",
    "classification_model(model_gscv, X, y)"
   ]
  },
  {
   "cell_type": "markdown",
   "metadata": {},
   "source": [
    "## Verify the Predictions on Testing Dataset"
   ]
  },
  {
   "cell_type": "code",
   "execution_count": 47,
   "metadata": {
    "ExecuteTime": {
     "end_time": "2023-04-15T07:58:40.439865Z",
     "start_time": "2023-04-15T07:58:40.435709Z"
    }
   },
   "outputs": [],
   "source": [
    "#'team1', 'team2','city', 'toss_decision', 'toss_winner', 'venue', \n",
    "teamcode = teams['team_codes']\n",
    "\n",
    "def predict_winner(model, input):\n",
    "    output=model.predict(input)\n",
    "    winner_name = get_team_name(output, teams)\n",
    "#    print(\"The predicted winner is Team {} - {}\".format(output, winner_name))\n",
    "    return winner_name"
   ]
  },
  {
   "cell_type": "markdown",
   "metadata": {},
   "source": [
    "## Get Predicted Winner for the given input below."
   ]
  },
  {
   "cell_type": "code",
   "execution_count": 48,
   "metadata": {
    "ExecuteTime": {
     "end_time": "2023-04-15T07:58:43.789093Z",
     "start_time": "2023-04-15T07:58:43.764372Z"
    }
   },
   "outputs": [],
   "source": [
    "def get_prediction(season,T1,T2,city,toss,toss_decision,venue, best_grid):\n",
    "    season = season\n",
    "    team1= teamcode[T1]\n",
    "    team2= teamcode[T2]\n",
    "    city = le_city.transform([city])[0] \n",
    "    toss_decision = le_toss.transform([toss_decision])[0] \n",
    "    toss_winner= teamcode[toss]\n",
    "    venue = le_venue.transform([venue])[0]  \n",
    "\n",
    "    input=[season, team1, team2, city, toss_decision, toss_winner, venue]\n",
    "    input = np.array(input).reshape((1, -1))\n",
    "\n",
    "    winner = predict_winner(best_grid, input)\n",
    "    return winner"
   ]
  },
  {
   "cell_type": "code",
   "execution_count": 49,
   "metadata": {
    "ExecuteTime": {
     "end_time": "2023-04-15T07:58:45.892542Z",
     "start_time": "2023-04-15T07:58:45.863872Z"
    }
   },
   "outputs": [
    {
     "name": "stdout",
     "output_type": "stream",
     "text": [
      "The predicted winner is: Royal Challengers Bangalore\n"
     ]
    }
   ],
   "source": [
    "season = 2020\n",
    "team1= teamcode['KKR'] \n",
    "team2= teamcode['RCB']\n",
    "city = le_city.transform(['Bangalore'])[0] \n",
    "toss_decision = le_toss.transform(['bat'])[0]  #[0-'bat', 1-'field']\n",
    "toss_winner= teamcode['RCB']\n",
    "venue = le_venue.transform(['M Chinnaswamy Stadium'])[0]  \n",
    "\n",
    "input=[season, team1, team2, city, toss_decision, toss_winner, venue]\n",
    "input = np.array(input).reshape((1, -1))\n",
    "#print(input)\n",
    "\n",
    "winner = predict_winner(best_grid, input)\n",
    "print(\"The predicted winner is:\", winner)"
   ]
  },
  {
   "cell_type": "code",
   "execution_count": 50,
   "metadata": {
    "ExecuteTime": {
     "end_time": "2023-04-15T07:58:47.121025Z",
     "start_time": "2023-04-15T07:58:47.096570Z"
    }
   },
   "outputs": [
    {
     "name": "stdout",
     "output_type": "stream",
     "text": [
      "The predicted winner is: Chennai Super Kings\n"
     ]
    }
   ],
   "source": [
    "#Get following Input from webpage\n",
    "season = 2020\n",
    "T1 = 'RCB'\n",
    "T2 = 'CSK'\n",
    "city = 'Dubai'\n",
    "toss = 'CSK'\n",
    "toss_decision = 'bat'\n",
    "venue = 'Dubai International Cricket Stadium'\n",
    "\n",
    "# Pass the best_grid and get_prediction function to pickle and input the above variables from webpage.\n",
    "winner = get_prediction(season,T1,T2,city,toss,toss_decision,venue, best_grid)\n",
    "\n",
    "#Get output in return, which can be displayed in webpage.\n",
    "print(\"The predicted winner is:\", winner)"
   ]
  },
  {
   "cell_type": "code",
   "execution_count": 51,
   "metadata": {
    "ExecuteTime": {
     "end_time": "2023-04-15T07:58:48.635349Z",
     "start_time": "2023-04-15T07:58:48.615767Z"
    }
   },
   "outputs": [],
   "source": [
    "pickle.dump(best_grid, open('iplmodel.pkl', 'wb'))"
   ]
  },
  {
   "cell_type": "code",
   "execution_count": 52,
   "metadata": {
    "ExecuteTime": {
     "end_time": "2023-04-15T07:58:49.614406Z",
     "start_time": "2023-04-15T07:58:49.598411Z"
    }
   },
   "outputs": [
    {
     "name": "stdout",
     "output_type": "stream",
     "text": [
      "    <option value='0'>bat</option>\n",
      "    <option value='1'>field</option>\n"
     ]
    },
    {
     "data": {
      "text/plain": [
       "{0: 'bat', 1: 'field'}"
      ]
     },
     "execution_count": 52,
     "metadata": {},
     "output_type": "execute_result"
    }
   ],
   "source": [
    "toss_dict = {}\n",
    "for t in le_toss.classes_:\n",
    "    a = le_toss.transform([t])[0]\n",
    "    print(\"    <option value='{}'>{}</option>\".format(a,t))\n",
    "    toss_dict[a] = t\n",
    "toss_dict"
   ]
  },
  {
   "cell_type": "code",
   "execution_count": 53,
   "metadata": {
    "ExecuteTime": {
     "end_time": "2023-04-15T07:58:50.897880Z",
     "start_time": "2023-04-15T07:58:50.879702Z"
    }
   },
   "outputs": [
    {
     "name": "stdout",
     "output_type": "stream",
     "text": [
      "    <option value='0'>Abu Dhabi</option>\n",
      "    <option value='1'>Ahmedabad</option>\n",
      "    <option value='2'>Bangalore</option>\n",
      "    <option value='3'>Bengaluru</option>\n",
      "    <option value='4'>Bloemfontein</option>\n",
      "    <option value='5'>Cape Town</option>\n",
      "    <option value='6'>Centurion</option>\n",
      "    <option value='7'>Chandigarh</option>\n",
      "    <option value='8'>Chennai</option>\n",
      "    <option value='9'>Cuttack</option>\n",
      "    <option value='10'>Delhi</option>\n",
      "    <option value='11'>Dharamsala</option>\n",
      "    <option value='12'>Dubai</option>\n",
      "    <option value='13'>Durban</option>\n",
      "    <option value='14'>East London</option>\n",
      "    <option value='15'>Hyderabad</option>\n",
      "    <option value='16'>Indore</option>\n",
      "    <option value='17'>Jaipur</option>\n",
      "    <option value='18'>Johannesburg</option>\n",
      "    <option value='19'>Kanpur</option>\n",
      "    <option value='20'>Kimberley</option>\n",
      "    <option value='21'>Kochi</option>\n",
      "    <option value='22'>Kolkata</option>\n",
      "    <option value='23'>Mohali</option>\n",
      "    <option value='24'>Mumbai</option>\n",
      "    <option value='25'>Nagpur</option>\n",
      "    <option value='26'>Port Elizabeth</option>\n",
      "    <option value='27'>Pune</option>\n",
      "    <option value='28'>Raipur</option>\n",
      "    <option value='29'>Rajkot</option>\n",
      "    <option value='30'>Ranchi</option>\n",
      "    <option value='31'>Sharjah</option>\n",
      "    <option value='32'>Visakhapatnam</option>\n"
     ]
    },
    {
     "data": {
      "text/plain": [
       "{0: 'Abu Dhabi',\n",
       " 1: 'Ahmedabad',\n",
       " 2: 'Bangalore',\n",
       " 3: 'Bengaluru',\n",
       " 4: 'Bloemfontein',\n",
       " 5: 'Cape Town',\n",
       " 6: 'Centurion',\n",
       " 7: 'Chandigarh',\n",
       " 8: 'Chennai',\n",
       " 9: 'Cuttack',\n",
       " 10: 'Delhi',\n",
       " 11: 'Dharamsala',\n",
       " 12: 'Dubai',\n",
       " 13: 'Durban',\n",
       " 14: 'East London',\n",
       " 15: 'Hyderabad',\n",
       " 16: 'Indore',\n",
       " 17: 'Jaipur',\n",
       " 18: 'Johannesburg',\n",
       " 19: 'Kanpur',\n",
       " 20: 'Kimberley',\n",
       " 21: 'Kochi',\n",
       " 22: 'Kolkata',\n",
       " 23: 'Mohali',\n",
       " 24: 'Mumbai',\n",
       " 25: 'Nagpur',\n",
       " 26: 'Port Elizabeth',\n",
       " 27: 'Pune',\n",
       " 28: 'Raipur',\n",
       " 29: 'Rajkot',\n",
       " 30: 'Ranchi',\n",
       " 31: 'Sharjah',\n",
       " 32: 'Visakhapatnam'}"
      ]
     },
     "execution_count": 53,
     "metadata": {},
     "output_type": "execute_result"
    }
   ],
   "source": [
    "city_dict = {}\n",
    "for c in le_city.classes_:\n",
    "    a = le_city.transform([c])[0]\n",
    "    print(\"    <option value='{}'>{}</option>\".format(a,c))\n",
    "    city_dict[a] = c\n",
    "city_dict"
   ]
  },
  {
   "cell_type": "code",
   "execution_count": 54,
   "metadata": {
    "ExecuteTime": {
     "end_time": "2023-04-15T07:58:55.835443Z",
     "start_time": "2023-04-15T07:58:55.792736Z"
    }
   },
   "outputs": [
    {
     "name": "stdout",
     "output_type": "stream",
     "text": [
      "    <option value='0'>ACA-VDCA Stadium</option>\n",
      "    <option value='1'>Barabati Stadium</option>\n",
      "    <option value='2'>Brabourne Stadium</option>\n",
      "    <option value='3'>Buffalo Park</option>\n",
      "    <option value='4'>De Beers Diamond Oval</option>\n",
      "    <option value='5'>Dr DY Patil Sports Academy</option>\n",
      "    <option value='6'>Dr. Y.S. Rajasekhara Reddy ACA-VDCA Cricket Stadium</option>\n",
      "    <option value='7'>Dubai International Cricket Stadium</option>\n",
      "    <option value='8'>Eden Gardens</option>\n",
      "    <option value='9'>Feroz Shah Kotla</option>\n",
      "    <option value='10'>Feroz Shah Kotla Ground</option>\n",
      "    <option value='11'>Green Park</option>\n",
      "    <option value='12'>Himachal Pradesh Cricket Association Stadium</option>\n",
      "    <option value='13'>Holkar Cricket Stadium</option>\n",
      "    <option value='14'>IS Bindra Stadium</option>\n",
      "    <option value='15'>JSCA International Stadium Complex</option>\n",
      "    <option value='16'>Kingsmead</option>\n",
      "    <option value='17'>M Chinnaswamy Stadium</option>\n",
      "    <option value='18'>M. A. Chidambaram Stadium</option>\n",
      "    <option value='19'>M. Chinnaswamy Stadium</option>\n",
      "    <option value='20'>MA Chidambaram Stadium, Chepauk</option>\n",
      "    <option value='21'>Maharashtra Cricket Association Stadium</option>\n",
      "    <option value='22'>Nehru Stadium</option>\n",
      "    <option value='23'>New Wanderers Stadium</option>\n",
      "    <option value='24'>Newlands</option>\n",
      "    <option value='25'>OUTsurance Oval</option>\n",
      "    <option value='26'>Punjab Cricket Association IS Bindra Stadium, Mohali</option>\n",
      "    <option value='27'>Punjab Cricket Association Stadium, Mohali</option>\n",
      "    <option value='28'>Rajiv Gandhi International Stadium, Uppal</option>\n",
      "    <option value='29'>Rajiv Gandhi Intl. Cricket Stadium</option>\n",
      "    <option value='30'>Sardar Patel Stadium, Motera</option>\n",
      "    <option value='31'>Saurashtra Cricket Association Stadium</option>\n",
      "    <option value='32'>Sawai Mansingh Stadium</option>\n",
      "    <option value='33'>Shaheed Veer Narayan Singh International Stadium</option>\n",
      "    <option value='34'>Sharjah Cricket Stadium</option>\n",
      "    <option value='35'>Sheikh Zayed Stadium</option>\n",
      "    <option value='36'>St George's Park</option>\n",
      "    <option value='37'>Subrata Roy Sahara Stadium</option>\n",
      "    <option value='38'>SuperSport Park</option>\n",
      "    <option value='39'>Vidarbha Cricket Association Stadium, Jamtha</option>\n",
      "    <option value='40'>Wankhede Stadium</option>\n"
     ]
    },
    {
     "data": {
      "text/plain": [
       "{0: 'ACA-VDCA Stadium',\n",
       " 1: 'Barabati Stadium',\n",
       " 2: 'Brabourne Stadium',\n",
       " 3: 'Buffalo Park',\n",
       " 4: 'De Beers Diamond Oval',\n",
       " 5: 'Dr DY Patil Sports Academy',\n",
       " 6: 'Dr. Y.S. Rajasekhara Reddy ACA-VDCA Cricket Stadium',\n",
       " 7: 'Dubai International Cricket Stadium',\n",
       " 8: 'Eden Gardens',\n",
       " 9: 'Feroz Shah Kotla',\n",
       " 10: 'Feroz Shah Kotla Ground',\n",
       " 11: 'Green Park',\n",
       " 12: 'Himachal Pradesh Cricket Association Stadium',\n",
       " 13: 'Holkar Cricket Stadium',\n",
       " 14: 'IS Bindra Stadium',\n",
       " 15: 'JSCA International Stadium Complex',\n",
       " 16: 'Kingsmead',\n",
       " 17: 'M Chinnaswamy Stadium',\n",
       " 18: 'M. A. Chidambaram Stadium',\n",
       " 19: 'M. Chinnaswamy Stadium',\n",
       " 20: 'MA Chidambaram Stadium, Chepauk',\n",
       " 21: 'Maharashtra Cricket Association Stadium',\n",
       " 22: 'Nehru Stadium',\n",
       " 23: 'New Wanderers Stadium',\n",
       " 24: 'Newlands',\n",
       " 25: 'OUTsurance Oval',\n",
       " 26: 'Punjab Cricket Association IS Bindra Stadium, Mohali',\n",
       " 27: 'Punjab Cricket Association Stadium, Mohali',\n",
       " 28: 'Rajiv Gandhi International Stadium, Uppal',\n",
       " 29: 'Rajiv Gandhi Intl. Cricket Stadium',\n",
       " 30: 'Sardar Patel Stadium, Motera',\n",
       " 31: 'Saurashtra Cricket Association Stadium',\n",
       " 32: 'Sawai Mansingh Stadium',\n",
       " 33: 'Shaheed Veer Narayan Singh International Stadium',\n",
       " 34: 'Sharjah Cricket Stadium',\n",
       " 35: 'Sheikh Zayed Stadium',\n",
       " 36: \"St George's Park\",\n",
       " 37: 'Subrata Roy Sahara Stadium',\n",
       " 38: 'SuperSport Park',\n",
       " 39: 'Vidarbha Cricket Association Stadium, Jamtha',\n",
       " 40: 'Wankhede Stadium'}"
      ]
     },
     "execution_count": 54,
     "metadata": {},
     "output_type": "execute_result"
    }
   ],
   "source": [
    "venue_dict = {}\n",
    "for ven in le_venue.classes_:\n",
    "    a = le_venue.transform([ven])[0]\n",
    "    print(\"    <option value='{}'>{}</option>\".format(a,ven))\n",
    "    venue_dict[a] = ven\n",
    "venue_dict"
   ]
  }
 ],
 "metadata": {
  "hide_input": false,
  "kernelspec": {
   "display_name": "Python 3",
   "language": "python",
   "name": "python3"
  },
  "language_info": {
   "codemirror_mode": {
    "name": "ipython",
    "version": 3
   },
   "file_extension": ".py",
   "mimetype": "text/x-python",
   "name": "python",
   "nbconvert_exporter": "python",
   "pygments_lexer": "ipython3",
   "version": "3.8.8"
  },
  "latex_envs": {
   "LaTeX_envs_menu_present": false,
   "autoclose": true,
   "autocomplete": true,
   "bibliofile": "biblio.bib",
   "cite_by": "apalike",
   "current_citInitial": 1,
   "eqLabelWithNumbers": false,
   "eqNumInitial": 1,
   "hotkeys": {
    "equation": "Ctrl-E",
    "itemize": "Ctrl-I"
   },
   "labels_anchors": false,
   "latex_user_defs": false,
   "report_style_numbering": false,
   "user_envs_cfg": false
  },
  "toc": {
   "base_numbering": 1,
   "nav_menu": {},
   "number_sections": true,
   "sideBar": true,
   "skip_h1_title": false,
   "title_cell": "Table of Contents",
   "title_sidebar": "Contents",
   "toc_cell": true,
   "toc_position": {},
   "toc_section_display": true,
   "toc_window_display": false
  },
  "varInspector": {
   "cols": {
    "lenName": 16,
    "lenType": 16,
    "lenVar": 40
   },
   "kernels_config": {
    "python": {
     "delete_cmd_postfix": "",
     "delete_cmd_prefix": "del ",
     "library": "var_list.py",
     "varRefreshCmd": "print(var_dic_list())"
    },
    "r": {
     "delete_cmd_postfix": ") ",
     "delete_cmd_prefix": "rm(",
     "library": "var_list.r",
     "varRefreshCmd": "cat(var_dic_list()) "
    }
   },
   "types_to_exclude": [
    "module",
    "function",
    "builtin_function_or_method",
    "instance",
    "_Feature"
   ],
   "window_display": false
  }
 },
 "nbformat": 4,
 "nbformat_minor": 4
}
