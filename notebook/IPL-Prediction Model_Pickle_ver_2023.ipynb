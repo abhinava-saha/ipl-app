{
 "cells": [
  {
   "cell_type": "markdown",
   "metadata": {
    "toc": true
   },
   "source": [
    "<h1>Table of Contents<span class=\"tocSkip\"></span></h1>\n",
    "<div class=\"toc\"><ul class=\"toc-item\"><li><ul class=\"toc-item\"><li><span><a href=\"#Encode-the-Categorical-columns:-City,-Toss_decision-and-Venue.\" data-toc-modified-id=\"Encode-the-Categorical-columns:-City,-Toss_decision-and-Venue.-0.1\"><span class=\"toc-item-num\">0.1&nbsp;&nbsp;</span>Encode the Categorical columns: City, Toss_decision and Venue.</a></span></li></ul></li><li><span><a href=\"#Split-dataset-X-into-Train-and-Test\" data-toc-modified-id=\"Split-dataset-X-into-Train-and-Test-1\"><span class=\"toc-item-num\">1&nbsp;&nbsp;</span>Split dataset X into Train and Test</a></span></li><li><span><a href=\"#Model-Performance-Metrics-Function.\" data-toc-modified-id=\"Model-Performance-Metrics-Function.-2\"><span class=\"toc-item-num\">2&nbsp;&nbsp;</span>Model Performance Metrics Function.</a></span><ul class=\"toc-item\"><li><ul class=\"toc-item\"><li><span><a href=\"#Compare-ROC-curves-and-Calculate-Area-under-the-curve-for-all-models\" data-toc-modified-id=\"Compare-ROC-curves-and-Calculate-Area-under-the-curve-for-all-models-2.0.1\"><span class=\"toc-item-num\">2.0.1&nbsp;&nbsp;</span>Compare ROC curves and Calculate Area under the curve for all models</a></span></li></ul></li></ul></li><li><span><a href=\"#Building-a-Random-Forest-Classifier-Model-and-fit-it-on-the-Training-Set\" data-toc-modified-id=\"Building-a-Random-Forest-Classifier-Model-and-fit-it-on-the-Training-Set-3\"><span class=\"toc-item-num\">3&nbsp;&nbsp;</span>Building a Random Forest Classifier Model and fit it on the Training Set</a></span><ul class=\"toc-item\"><li><span><a href=\"#Grid-Search-Cross-Validation-of-Random-Forest-Features\" data-toc-modified-id=\"Grid-Search-Cross-Validation-of-Random-Forest-Features-3.1\"><span class=\"toc-item-num\">3.1&nbsp;&nbsp;</span>Grid Search Cross Validation of Random Forest Features</a></span></li><li><span><a href=\"#Generate-Training-data-Model-performance-Metrics\" data-toc-modified-id=\"Generate-Training-data-Model-performance-Metrics-3.2\"><span class=\"toc-item-num\">3.2&nbsp;&nbsp;</span>Generate Training data Model performance Metrics</a></span></li></ul></li><li><span><a href=\"#Verify-the-Predictions-on-Testing-Dataset\" data-toc-modified-id=\"Verify-the-Predictions-on-Testing-Dataset-4\"><span class=\"toc-item-num\">4&nbsp;&nbsp;</span>Verify the Predictions on Testing Dataset</a></span></li><li><span><a href=\"#Get-Predicted-Winner-for-the-given-input-below.\" data-toc-modified-id=\"Get-Predicted-Winner-for-the-given-input-below.-5\"><span class=\"toc-item-num\">5&nbsp;&nbsp;</span>Get Predicted Winner for the given input below.</a></span></li><li><span><a href=\"#Testing-the-Code-and-lookup-values\" data-toc-modified-id=\"Testing-the-Code-and-lookup-values-6\"><span class=\"toc-item-num\">6&nbsp;&nbsp;</span>Testing the Code and lookup values</a></span></li></ul></div>"
   ]
  },
  {
   "cell_type": "code",
   "execution_count": 1,
   "metadata": {
    "ExecuteTime": {
     "end_time": "2023-04-17T08:49:50.294498Z",
     "start_time": "2023-04-17T08:49:47.002742Z"
    }
   },
   "outputs": [],
   "source": [
    "#Importing libraries\n",
    "import pandas as pd\n",
    "import numpy as np\n",
    "import matplotlib.pyplot as plt\n",
    "import seaborn as sns\n",
    "import pickle\n",
    "\n",
    "from sklearn.model_selection import train_test_split\n",
    "from sklearn.preprocessing import StandardScaler\n",
    "from sklearn.neural_network import MLPClassifier\n",
    "from sklearn.tree import DecisionTreeClassifier, export_graphviz\n",
    "from sklearn.ensemble import RandomForestClassifier\n",
    "from sklearn.metrics import confusion_matrix,classification_report,roc_auc_score,accuracy_score,roc_auc_score,roc_curve\n"
   ]
  },
  {
   "cell_type": "code",
   "execution_count": 39,
   "metadata": {
    "ExecuteTime": {
     "end_time": "2023-04-17T10:12:10.525196Z",
     "start_time": "2023-04-17T10:12:10.485639Z"
    }
   },
   "outputs": [
    {
     "data": {
      "text/html": [
       "<div>\n",
       "<style scoped>\n",
       "    .dataframe tbody tr th:only-of-type {\n",
       "        vertical-align: middle;\n",
       "    }\n",
       "\n",
       "    .dataframe tbody tr th {\n",
       "        vertical-align: top;\n",
       "    }\n",
       "\n",
       "    .dataframe thead th {\n",
       "        text-align: right;\n",
       "    }\n",
       "</style>\n",
       "<table border=\"1\" class=\"dataframe\">\n",
       "  <thead>\n",
       "    <tr style=\"text-align: right;\">\n",
       "      <th></th>\n",
       "      <th>season</th>\n",
       "      <th>city</th>\n",
       "      <th>date</th>\n",
       "      <th>team1</th>\n",
       "      <th>team2</th>\n",
       "      <th>toss_winner</th>\n",
       "      <th>toss_decision</th>\n",
       "      <th>result</th>\n",
       "      <th>dl_applied</th>\n",
       "      <th>winner</th>\n",
       "      <th>win_by_runs</th>\n",
       "      <th>win_by_wickets</th>\n",
       "      <th>player_of_match</th>\n",
       "      <th>venue</th>\n",
       "      <th>umpire1</th>\n",
       "      <th>umpire2</th>\n",
       "      <th>umpire3</th>\n",
       "    </tr>\n",
       "  </thead>\n",
       "  <tbody>\n",
       "    <tr>\n",
       "      <th>0</th>\n",
       "      <td>2008</td>\n",
       "      <td>Bengaluru</td>\n",
       "      <td>18-04-2008</td>\n",
       "      <td>Kolkata Knight Riders</td>\n",
       "      <td>Royal Challengers Bangalore</td>\n",
       "      <td>Royal Challengers Bangalore</td>\n",
       "      <td>field</td>\n",
       "      <td>normal</td>\n",
       "      <td>0.0</td>\n",
       "      <td>Kolkata Knight Riders</td>\n",
       "      <td>140.0</td>\n",
       "      <td>0.0</td>\n",
       "      <td>BB McCullum</td>\n",
       "      <td>M Chinnaswamy Stadium</td>\n",
       "      <td>Asad Rauf</td>\n",
       "      <td>RE Koertzen</td>\n",
       "      <td>NaN</td>\n",
       "    </tr>\n",
       "    <tr>\n",
       "      <th>1</th>\n",
       "      <td>2008</td>\n",
       "      <td>Chandigarh</td>\n",
       "      <td>19-04-2008</td>\n",
       "      <td>Chennai Super Kings</td>\n",
       "      <td>Kings XI Punjab</td>\n",
       "      <td>Chennai Super Kings</td>\n",
       "      <td>bat</td>\n",
       "      <td>normal</td>\n",
       "      <td>0.0</td>\n",
       "      <td>Chennai Super Kings</td>\n",
       "      <td>33.0</td>\n",
       "      <td>0.0</td>\n",
       "      <td>MEK Hussey</td>\n",
       "      <td>Punjab Cricket Association Stadium Mohali</td>\n",
       "      <td>MR Benson</td>\n",
       "      <td>SL Shastri</td>\n",
       "      <td>NaN</td>\n",
       "    </tr>\n",
       "    <tr>\n",
       "      <th>2</th>\n",
       "      <td>2008</td>\n",
       "      <td>Delhi</td>\n",
       "      <td>19-04-2008</td>\n",
       "      <td>Rajasthan Royals</td>\n",
       "      <td>Delhi Daredevils</td>\n",
       "      <td>Rajasthan Royals</td>\n",
       "      <td>bat</td>\n",
       "      <td>normal</td>\n",
       "      <td>0.0</td>\n",
       "      <td>Delhi Daredevils</td>\n",
       "      <td>0.0</td>\n",
       "      <td>9.0</td>\n",
       "      <td>MF Maharoof</td>\n",
       "      <td>Feroz Shah Kotla</td>\n",
       "      <td>Aleem Dar</td>\n",
       "      <td>GA Pratapkumar</td>\n",
       "      <td>NaN</td>\n",
       "    </tr>\n",
       "    <tr>\n",
       "      <th>3</th>\n",
       "      <td>2008</td>\n",
       "      <td>Mumbai</td>\n",
       "      <td>20-04-2008</td>\n",
       "      <td>Mumbai Indians</td>\n",
       "      <td>Royal Challengers Bangalore</td>\n",
       "      <td>Mumbai Indians</td>\n",
       "      <td>bat</td>\n",
       "      <td>normal</td>\n",
       "      <td>0.0</td>\n",
       "      <td>Royal Challengers Bangalore</td>\n",
       "      <td>0.0</td>\n",
       "      <td>5.0</td>\n",
       "      <td>MV Boucher</td>\n",
       "      <td>Wankhede Stadium</td>\n",
       "      <td>SJ Davis</td>\n",
       "      <td>DJ Harper</td>\n",
       "      <td>NaN</td>\n",
       "    </tr>\n",
       "    <tr>\n",
       "      <th>4</th>\n",
       "      <td>2008</td>\n",
       "      <td>Kolkata</td>\n",
       "      <td>20-04-2008</td>\n",
       "      <td>Deccan Chargers</td>\n",
       "      <td>Kolkata Knight Riders</td>\n",
       "      <td>Deccan Chargers</td>\n",
       "      <td>bat</td>\n",
       "      <td>normal</td>\n",
       "      <td>0.0</td>\n",
       "      <td>Kolkata Knight Riders</td>\n",
       "      <td>0.0</td>\n",
       "      <td>5.0</td>\n",
       "      <td>DJ Hussey</td>\n",
       "      <td>Eden Gardens</td>\n",
       "      <td>BF Bowden</td>\n",
       "      <td>K Hariharan</td>\n",
       "      <td>NaN</td>\n",
       "    </tr>\n",
       "  </tbody>\n",
       "</table>\n",
       "</div>"
      ],
      "text/plain": [
       "   season        city        date                  team1  \\\n",
       "0    2008   Bengaluru  18-04-2008  Kolkata Knight Riders   \n",
       "1    2008  Chandigarh  19-04-2008    Chennai Super Kings   \n",
       "2    2008       Delhi  19-04-2008       Rajasthan Royals   \n",
       "3    2008      Mumbai  20-04-2008         Mumbai Indians   \n",
       "4    2008     Kolkata  20-04-2008        Deccan Chargers   \n",
       "\n",
       "                         team2                  toss_winner toss_decision  \\\n",
       "0  Royal Challengers Bangalore  Royal Challengers Bangalore         field   \n",
       "1              Kings XI Punjab          Chennai Super Kings           bat   \n",
       "2             Delhi Daredevils             Rajasthan Royals           bat   \n",
       "3  Royal Challengers Bangalore               Mumbai Indians           bat   \n",
       "4        Kolkata Knight Riders              Deccan Chargers           bat   \n",
       "\n",
       "   result  dl_applied                       winner  win_by_runs  \\\n",
       "0  normal         0.0        Kolkata Knight Riders        140.0   \n",
       "1  normal         0.0          Chennai Super Kings         33.0   \n",
       "2  normal         0.0             Delhi Daredevils          0.0   \n",
       "3  normal         0.0  Royal Challengers Bangalore          0.0   \n",
       "4  normal         0.0        Kolkata Knight Riders          0.0   \n",
       "\n",
       "   win_by_wickets player_of_match                                      venue  \\\n",
       "0             0.0     BB McCullum                      M Chinnaswamy Stadium   \n",
       "1             0.0      MEK Hussey  Punjab Cricket Association Stadium Mohali   \n",
       "2             9.0     MF Maharoof                           Feroz Shah Kotla   \n",
       "3             5.0      MV Boucher                           Wankhede Stadium   \n",
       "4             5.0       DJ Hussey                               Eden Gardens   \n",
       "\n",
       "     umpire1         umpire2 umpire3  \n",
       "0  Asad Rauf     RE Koertzen     NaN  \n",
       "1  MR Benson      SL Shastri     NaN  \n",
       "2  Aleem Dar  GA Pratapkumar     NaN  \n",
       "3   SJ Davis       DJ Harper     NaN  \n",
       "4  BF Bowden     K Hariharan     NaN  "
      ]
     },
     "execution_count": 39,
     "metadata": {},
     "output_type": "execute_result"
    }
   ],
   "source": [
    "matches=pd.read_csv('matches.csv')\n",
    "#deliveries=pd.read_csv('deliveries.csv')\n",
    "matches.head()"
   ]
  },
  {
   "cell_type": "code",
   "execution_count": 40,
   "metadata": {
    "ExecuteTime": {
     "end_time": "2023-04-17T10:12:11.225491Z",
     "start_time": "2023-04-17T10:12:11.207688Z"
    }
   },
   "outputs": [],
   "source": [
    "matches2023 = matches.copy()"
   ]
  },
  {
   "cell_type": "code",
   "execution_count": 41,
   "metadata": {
    "ExecuteTime": {
     "end_time": "2023-04-17T10:12:11.845001Z",
     "start_time": "2023-04-17T10:12:11.820681Z"
    }
   },
   "outputs": [
    {
     "data": {
      "text/html": [
       "<div>\n",
       "<style scoped>\n",
       "    .dataframe tbody tr th:only-of-type {\n",
       "        vertical-align: middle;\n",
       "    }\n",
       "\n",
       "    .dataframe tbody tr th {\n",
       "        vertical-align: top;\n",
       "    }\n",
       "\n",
       "    .dataframe thead th {\n",
       "        text-align: right;\n",
       "    }\n",
       "</style>\n",
       "<table border=\"1\" class=\"dataframe\">\n",
       "  <thead>\n",
       "    <tr style=\"text-align: right;\">\n",
       "      <th></th>\n",
       "      <th>season</th>\n",
       "      <th>city</th>\n",
       "      <th>team1</th>\n",
       "      <th>team2</th>\n",
       "      <th>toss_winner</th>\n",
       "      <th>toss_decision</th>\n",
       "      <th>winner</th>\n",
       "      <th>win_by_runs</th>\n",
       "      <th>win_by_wickets</th>\n",
       "      <th>player_of_match</th>\n",
       "      <th>venue</th>\n",
       "    </tr>\n",
       "  </thead>\n",
       "  <tbody>\n",
       "    <tr>\n",
       "      <th>0</th>\n",
       "      <td>2008</td>\n",
       "      <td>Bengaluru</td>\n",
       "      <td>Kolkata Knight Riders</td>\n",
       "      <td>Royal Challengers Bangalore</td>\n",
       "      <td>Royal Challengers Bangalore</td>\n",
       "      <td>field</td>\n",
       "      <td>Kolkata Knight Riders</td>\n",
       "      <td>140.0</td>\n",
       "      <td>0.0</td>\n",
       "      <td>BB McCullum</td>\n",
       "      <td>M Chinnaswamy Stadium</td>\n",
       "    </tr>\n",
       "    <tr>\n",
       "      <th>1</th>\n",
       "      <td>2008</td>\n",
       "      <td>Chandigarh</td>\n",
       "      <td>Chennai Super Kings</td>\n",
       "      <td>Kings XI Punjab</td>\n",
       "      <td>Chennai Super Kings</td>\n",
       "      <td>bat</td>\n",
       "      <td>Chennai Super Kings</td>\n",
       "      <td>33.0</td>\n",
       "      <td>0.0</td>\n",
       "      <td>MEK Hussey</td>\n",
       "      <td>Punjab Cricket Association Stadium Mohali</td>\n",
       "    </tr>\n",
       "    <tr>\n",
       "      <th>2</th>\n",
       "      <td>2008</td>\n",
       "      <td>Delhi</td>\n",
       "      <td>Rajasthan Royals</td>\n",
       "      <td>Delhi Daredevils</td>\n",
       "      <td>Rajasthan Royals</td>\n",
       "      <td>bat</td>\n",
       "      <td>Delhi Daredevils</td>\n",
       "      <td>0.0</td>\n",
       "      <td>9.0</td>\n",
       "      <td>MF Maharoof</td>\n",
       "      <td>Feroz Shah Kotla</td>\n",
       "    </tr>\n",
       "    <tr>\n",
       "      <th>3</th>\n",
       "      <td>2008</td>\n",
       "      <td>Mumbai</td>\n",
       "      <td>Mumbai Indians</td>\n",
       "      <td>Royal Challengers Bangalore</td>\n",
       "      <td>Mumbai Indians</td>\n",
       "      <td>bat</td>\n",
       "      <td>Royal Challengers Bangalore</td>\n",
       "      <td>0.0</td>\n",
       "      <td>5.0</td>\n",
       "      <td>MV Boucher</td>\n",
       "      <td>Wankhede Stadium</td>\n",
       "    </tr>\n",
       "    <tr>\n",
       "      <th>4</th>\n",
       "      <td>2008</td>\n",
       "      <td>Kolkata</td>\n",
       "      <td>Deccan Chargers</td>\n",
       "      <td>Kolkata Knight Riders</td>\n",
       "      <td>Deccan Chargers</td>\n",
       "      <td>bat</td>\n",
       "      <td>Kolkata Knight Riders</td>\n",
       "      <td>0.0</td>\n",
       "      <td>5.0</td>\n",
       "      <td>DJ Hussey</td>\n",
       "      <td>Eden Gardens</td>\n",
       "    </tr>\n",
       "  </tbody>\n",
       "</table>\n",
       "</div>"
      ],
      "text/plain": [
       "   season        city                  team1                        team2  \\\n",
       "0    2008   Bengaluru  Kolkata Knight Riders  Royal Challengers Bangalore   \n",
       "1    2008  Chandigarh    Chennai Super Kings              Kings XI Punjab   \n",
       "2    2008       Delhi       Rajasthan Royals             Delhi Daredevils   \n",
       "3    2008      Mumbai         Mumbai Indians  Royal Challengers Bangalore   \n",
       "4    2008     Kolkata        Deccan Chargers        Kolkata Knight Riders   \n",
       "\n",
       "                   toss_winner toss_decision                       winner  \\\n",
       "0  Royal Challengers Bangalore         field        Kolkata Knight Riders   \n",
       "1          Chennai Super Kings           bat          Chennai Super Kings   \n",
       "2             Rajasthan Royals           bat             Delhi Daredevils   \n",
       "3               Mumbai Indians           bat  Royal Challengers Bangalore   \n",
       "4              Deccan Chargers           bat        Kolkata Knight Riders   \n",
       "\n",
       "   win_by_runs  win_by_wickets player_of_match  \\\n",
       "0        140.0             0.0     BB McCullum   \n",
       "1         33.0             0.0      MEK Hussey   \n",
       "2          0.0             9.0     MF Maharoof   \n",
       "3          0.0             5.0      MV Boucher   \n",
       "4          0.0             5.0       DJ Hussey   \n",
       "\n",
       "                                       venue  \n",
       "0                      M Chinnaswamy Stadium  \n",
       "1  Punjab Cricket Association Stadium Mohali  \n",
       "2                           Feroz Shah Kotla  \n",
       "3                           Wankhede Stadium  \n",
       "4                               Eden Gardens  "
      ]
     },
     "execution_count": 41,
     "metadata": {},
     "output_type": "execute_result"
    }
   ],
   "source": [
    "matches.drop(columns=['umpire1','umpire2','umpire3','date','result','dl_applied'], inplace=True)\n",
    "matches.head()"
   ]
  },
  {
   "cell_type": "code",
   "execution_count": 42,
   "metadata": {
    "ExecuteTime": {
     "end_time": "2023-04-17T10:12:12.461691Z",
     "start_time": "2023-04-17T10:12:12.443385Z"
    }
   },
   "outputs": [
    {
     "name": "stdout",
     "output_type": "stream",
     "text": [
      "<class 'pandas.core.frame.DataFrame'>\n",
      "RangeIndex: 1020 entries, 0 to 1019\n",
      "Data columns (total 11 columns):\n",
      " #   Column           Non-Null Count  Dtype  \n",
      "---  ------           --------------  -----  \n",
      " 0   season           1020 non-null   int64  \n",
      " 1   city             1020 non-null   object \n",
      " 2   team1            1020 non-null   object \n",
      " 3   team2            1020 non-null   object \n",
      " 4   toss_winner      973 non-null    object \n",
      " 5   toss_decision    973 non-null    object \n",
      " 6   winner           969 non-null    object \n",
      " 7   win_by_runs      973 non-null    float64\n",
      " 8   win_by_wickets   973 non-null    float64\n",
      " 9   player_of_match  969 non-null    object \n",
      " 10  venue            1020 non-null   object \n",
      "dtypes: float64(2), int64(1), object(8)\n",
      "memory usage: 87.8+ KB\n"
     ]
    }
   ],
   "source": [
    "matches.info()"
   ]
  },
  {
   "cell_type": "code",
   "execution_count": 43,
   "metadata": {
    "ExecuteTime": {
     "end_time": "2023-04-17T10:12:13.238715Z",
     "start_time": "2023-04-17T10:12:13.202704Z"
    }
   },
   "outputs": [
    {
     "name": "stdout",
     "output_type": "stream",
     "text": [
      "<class 'pandas.core.frame.DataFrame'>\n",
      "Int64Index: 969 entries, 0 to 972\n",
      "Data columns (total 11 columns):\n",
      " #   Column           Non-Null Count  Dtype  \n",
      "---  ------           --------------  -----  \n",
      " 0   season           969 non-null    int64  \n",
      " 1   city             969 non-null    object \n",
      " 2   team1            969 non-null    object \n",
      " 3   team2            969 non-null    object \n",
      " 4   toss_winner      969 non-null    object \n",
      " 5   toss_decision    969 non-null    object \n",
      " 6   winner           969 non-null    object \n",
      " 7   win_by_runs      969 non-null    float64\n",
      " 8   win_by_wickets   969 non-null    float64\n",
      " 9   player_of_match  969 non-null    object \n",
      " 10  venue            969 non-null    object \n",
      "dtypes: float64(2), int64(1), object(8)\n",
      "memory usage: 90.8+ KB\n"
     ]
    }
   ],
   "source": [
    "matches.dropna(axis=0, subset=['season', 'winner'], inplace=True)\n",
    "matches.info()"
   ]
  },
  {
   "cell_type": "code",
   "execution_count": 44,
   "metadata": {
    "ExecuteTime": {
     "end_time": "2023-04-17T10:12:14.188380Z",
     "start_time": "2023-04-17T10:12:14.179363Z"
    }
   },
   "outputs": [],
   "source": [
    "matches1 = matches[['season','team1','team2','city','toss_decision','toss_winner','venue','winner']].copy()"
   ]
  },
  {
   "cell_type": "code",
   "execution_count": 45,
   "metadata": {
    "ExecuteTime": {
     "end_time": "2023-04-17T10:12:14.876702Z",
     "start_time": "2023-04-17T10:12:14.852346Z"
    }
   },
   "outputs": [
    {
     "data": {
      "text/plain": [
       "(16, 34, 17, 17, 17, 2, 17, 96, 11, 326, 36)"
      ]
     },
     "execution_count": 45,
     "metadata": {},
     "output_type": "execute_result"
    }
   ],
   "source": [
    "matches['season'].nunique(), matches['city'].nunique(), matches['team1'].nunique(), matches['team2'].nunique(), matches['toss_winner'].nunique(), matches['toss_decision'].nunique(), matches['winner'].nunique(), matches['win_by_runs'].nunique(), matches['win_by_wickets'].nunique(), matches['player_of_match'].nunique(), matches['venue'].nunique()"
   ]
  },
  {
   "cell_type": "code",
   "execution_count": null,
   "metadata": {},
   "outputs": [],
   "source": []
  },
  {
   "cell_type": "code",
   "execution_count": null,
   "metadata": {},
   "outputs": [],
   "source": []
  },
  {
   "cell_type": "markdown",
   "metadata": {},
   "source": [
    "### Encode the Categorical columns: City, Toss_decision and Venue."
   ]
  },
  {
   "cell_type": "code",
   "execution_count": 46,
   "metadata": {
    "ExecuteTime": {
     "end_time": "2023-04-17T10:12:17.523425Z",
     "start_time": "2023-04-17T10:12:17.508678Z"
    }
   },
   "outputs": [],
   "source": [
    "# Create dictionary of Team names and team codes.\n",
    "teams = {'team_names': {'Chennai Super Kings':'CSK', 'Deccan Chargers':'DCH', 'Delhi Capitals':'DC',\n",
    "                        'Delhi Daredevils':'DD', 'Gujarat Lions':'GL', 'Gujarat Titans':'GT', \n",
    "                        'Kings XI Punjab':'KXIP', 'Kochi Tuskers Kerala':'KTK', 'Kolkata Knight Riders':'KKR', \n",
    "                        'Lucknow Super Giants':'LSG', 'Mumbai Indians':'MI', 'Pune Warriors':'PW', \n",
    "                        'Punjab Kings':'PBKS', 'Rajasthan Royals':'RR', 'Rising Pune Supergiant':'RPS', \n",
    "                        'Sunrisers Hyderabad':'SRH', 'Royal Challengers Bangalore':'RCB', 'Tie':'TIE'}, \n",
    "         \n",
    "         'team_codes': {'MI':1, 'CSK':2, 'KKR':3, 'RCB':4, 'PBKS':5, 'RR':6, 'SRH':7, 'DC':8,   \n",
    "              'GT':9, 'LSG':10, 'DCH':11, 'DD':12, 'GL':13, 'KXIP':14, 'KTK':15, 'PW':16, 'RPS':17, 'TIE':18},\n",
    "         \n",
    "         'team_codes_rev': {1:'MI', 2:'CSK', 3:'KKR', 4:'RCB', 5:'PBKS', 6:'RR', 7:'SRH', 8:'DC',   \n",
    "              9:'GT', 10:'LSG', 11:'DCH', 12:'DD', 13:'GL', 14:'KXIP', 15:'KTK', 16:'PW', 17:'RPS', 18:'TIE'}\n",
    "        }"
   ]
  },
  {
   "cell_type": "code",
   "execution_count": 47,
   "metadata": {
    "ExecuteTime": {
     "end_time": "2023-04-17T10:12:18.803691Z",
     "start_time": "2023-04-17T10:12:18.787691Z"
    }
   },
   "outputs": [],
   "source": [
    "# Encode venue, city and toss_decision columns using Sklearn LabelEncoder\n",
    "\n",
    "from sklearn.preprocessing import LabelEncoder\n",
    "le_venue = LabelEncoder()\n",
    "le_venue = le_venue.fit(matches1['venue'])\n",
    "le_city = LabelEncoder()\n",
    "le_city = le_city.fit(matches1['city'])\n",
    "le_toss = LabelEncoder()\n",
    "le_toss = le_toss.fit(matches1['toss_decision'])\n",
    "\n",
    "def to_numerical(df, teams, le_venue, le_city, le_toss):\n",
    "    df.replace(teams['team_names'], inplace=True)\n",
    "    df.replace(teams['team_codes'], inplace=True)\n",
    "    \n",
    "    df['venue'] = le_venue.transform(df['venue'])\n",
    "    df['city'] = le_city.transform(df['city'])\n",
    "    df['toss_decision'] = le_toss.transform(df['toss_decision'])\n",
    "#    df['season'] -= 2007\n",
    "    return df"
   ]
  },
  {
   "cell_type": "code",
   "execution_count": 48,
   "metadata": {
    "ExecuteTime": {
     "end_time": "2023-04-17T10:12:19.654628Z",
     "start_time": "2023-04-17T10:12:19.643568Z"
    }
   },
   "outputs": [],
   "source": [
    "# Define function to get team name passing team code.\n",
    "def get_team_name(team_no, teams):\n",
    "    team = team_no\n",
    "    team_codes = teams['team_codes']\n",
    "    team_names = teams['team_names']\n",
    "    teamcode = list(team_codes.keys())[list(team_codes.values()).index(team)]\n",
    "    teamname = list(team_names.keys())[list(team_names.values()).index(teamcode)]\n",
    "    #print (\"Team {} is {}\".format(team, teamname))\n",
    "    return teamname"
   ]
  },
  {
   "cell_type": "code",
   "execution_count": 49,
   "metadata": {
    "ExecuteTime": {
     "end_time": "2023-04-17T10:12:20.522356Z",
     "start_time": "2023-04-17T10:12:20.503048Z"
    }
   },
   "outputs": [
    {
     "data": {
      "text/plain": [
       "array(['Abu Dhabi', 'Ahmedabad', 'Bengaluru', 'Bloemfontein', 'Cape Town',\n",
       "       'Centurion', 'Chandigarh', 'Chennai', 'Cuttack', 'Delhi',\n",
       "       'Dharamsala', 'Dubai', 'Durban', 'East London', 'Guwahati',\n",
       "       'Hyderabad', 'Indore', 'Jaipur', 'Johannesburg', 'Kanpur',\n",
       "       'Kimberley', 'Kochi', 'Kolkata', 'Lucknow', 'Mumbai', 'Nagpur',\n",
       "       'Navi Mumbai', 'Port Elizabeth', 'Pune', 'Raipur', 'Rajkot',\n",
       "       'Ranchi', 'Sharjah', 'Visakhapatnam'], dtype=object)"
      ]
     },
     "execution_count": 49,
     "metadata": {},
     "output_type": "execute_result"
    }
   ],
   "source": [
    "le_city.classes_"
   ]
  },
  {
   "cell_type": "code",
   "execution_count": 50,
   "metadata": {
    "ExecuteTime": {
     "end_time": "2023-04-17T10:12:21.700814Z",
     "start_time": "2023-04-17T10:12:21.690452Z"
    }
   },
   "outputs": [
    {
     "data": {
      "text/plain": [
       "array([ 0,  1,  2,  3,  4,  5,  6,  7,  8,  9, 10, 11, 12, 13, 14, 15, 16,\n",
       "       17, 18, 19, 20, 21, 22, 23, 24, 25, 26, 27, 28, 29, 30, 31, 32, 33])"
      ]
     },
     "execution_count": 50,
     "metadata": {},
     "output_type": "execute_result"
    }
   ],
   "source": [
    "le_city.transform(list(le_city.classes_))"
   ]
  },
  {
   "cell_type": "code",
   "execution_count": 51,
   "metadata": {
    "ExecuteTime": {
     "end_time": "2023-04-17T10:12:23.022018Z",
     "start_time": "2023-04-17T10:12:23.003655Z"
    }
   },
   "outputs": [
    {
     "data": {
      "text/plain": [
       "[33]"
      ]
     },
     "execution_count": 51,
     "metadata": {},
     "output_type": "execute_result"
    }
   ],
   "source": [
    "list(le_city.transform(['Visakhapatnam']))"
   ]
  },
  {
   "cell_type": "code",
   "execution_count": 52,
   "metadata": {
    "ExecuteTime": {
     "end_time": "2023-04-17T10:12:24.055678Z",
     "start_time": "2023-04-17T10:12:24.044322Z"
    }
   },
   "outputs": [
    {
     "name": "stdout",
     "output_type": "stream",
     "text": [
      "bat:0\n",
      "field:1\n"
     ]
    }
   ],
   "source": [
    "toss_list = list(le_toss.classes_)\n",
    "\n",
    "for c in toss_list:\n",
    "    a = []\n",
    "    a.append(c)\n",
    "    print(f\"{a[0]}:{list(le_toss.transform(a))[0]}\")\n",
    "    "
   ]
  },
  {
   "cell_type": "code",
   "execution_count": 53,
   "metadata": {
    "ExecuteTime": {
     "end_time": "2023-04-17T10:12:25.156587Z",
     "start_time": "2023-04-17T10:12:25.130692Z"
    }
   },
   "outputs": [
    {
     "name": "stdout",
     "output_type": "stream",
     "text": [
      "Abu Dhabi:0\n",
      "Ahmedabad:1\n",
      "Bengaluru:2\n",
      "Bloemfontein:3\n",
      "Cape Town:4\n",
      "Centurion:5\n",
      "Chandigarh:6\n",
      "Chennai:7\n",
      "Cuttack:8\n",
      "Delhi:9\n",
      "Dharamsala:10\n",
      "Dubai:11\n",
      "Durban:12\n",
      "East London:13\n",
      "Guwahati:14\n",
      "Hyderabad:15\n",
      "Indore:16\n",
      "Jaipur:17\n",
      "Johannesburg:18\n",
      "Kanpur:19\n",
      "Kimberley:20\n",
      "Kochi:21\n",
      "Kolkata:22\n",
      "Lucknow:23\n",
      "Mumbai:24\n",
      "Nagpur:25\n",
      "Navi Mumbai:26\n",
      "Port Elizabeth:27\n",
      "Pune:28\n",
      "Raipur:29\n",
      "Rajkot:30\n",
      "Ranchi:31\n",
      "Sharjah:32\n",
      "Visakhapatnam:33\n"
     ]
    }
   ],
   "source": [
    "city_list = list(le_city.classes_)\n",
    "\n",
    "for c in city_list:\n",
    "    a = []\n",
    "    a.append(c)\n",
    "    print(f\"{a[0]}:{list(le_city.transform(a))[0]}\")\n",
    "    "
   ]
  },
  {
   "cell_type": "code",
   "execution_count": 54,
   "metadata": {
    "ExecuteTime": {
     "end_time": "2023-04-17T10:12:27.870857Z",
     "start_time": "2023-04-17T10:12:27.851002Z"
    },
    "scrolled": false
   },
   "outputs": [
    {
     "name": "stdout",
     "output_type": "stream",
     "text": [
      "ACA-VDCA Stadium:0\n",
      "Barabati Stadium:1\n",
      "Barsapara Cricket Stadium:2\n",
      "Bharat Ratna Shri Atal Bihari Vajpayee Ekana Cricket Stadium:3\n",
      "Brabourne Stadium:4\n",
      "Buffalo Park:5\n",
      "De Beers Diamond Oval:6\n",
      "Dr DY Patil Sports Academy:7\n",
      "Dubai International Cricket Stadium:8\n",
      "Eden Gardens:9\n",
      "Feroz Shah Kotla:10\n",
      "Green Park:11\n",
      "Himachal Pradesh Cricket Association Stadium:12\n",
      "Holkar Cricket Stadium:13\n",
      "JSCA International Stadium Complex:14\n",
      "Kingsmead:15\n",
      "M Chinnaswamy Stadium:16\n",
      "MA Chidambaram Stadium Chepauk:17\n",
      "Maharashtra Cricket Association Stadium:18\n",
      "Narendra Modi Stadium:19\n",
      "Nehru Stadium:20\n",
      "New Wanderers Stadium:21\n",
      "Newlands:22\n",
      "OUTsurance Oval:23\n",
      "Punjab Cricket Association Stadium Mohali:24\n",
      "Rajiv Gandhi International Stadium:25\n",
      "Sardar Patel Stadium Motera:26\n",
      "Saurashtra Cricket Association Stadium:27\n",
      "Sawai Mansingh Stadium:28\n",
      "Shaheed Veer Narayan Singh International Stadium:29\n",
      "Sharjah Cricket Stadium:30\n",
      "Sheikh Zayed Stadium:31\n",
      "St Georges Park:32\n",
      "SuperSport Park:33\n",
      "Vidarbha Cricket Association Stadium Jamtha:34\n",
      "Wankhede Stadium:35\n"
     ]
    }
   ],
   "source": [
    "venue_list = list(le_venue.classes_)\n",
    "\n",
    "for c in venue_list:\n",
    "    a = []\n",
    "    a.append(c)\n",
    "    print(f\"{a[0]}:{list(le_venue.transform(a))[0]}\")\n",
    "    "
   ]
  },
  {
   "cell_type": "code",
   "execution_count": null,
   "metadata": {},
   "outputs": [],
   "source": []
  },
  {
   "cell_type": "code",
   "execution_count": 55,
   "metadata": {
    "ExecuteTime": {
     "end_time": "2023-04-17T10:12:32.000244Z",
     "start_time": "2023-04-17T10:12:31.962858Z"
    }
   },
   "outputs": [
    {
     "data": {
      "text/html": [
       "<div>\n",
       "<style scoped>\n",
       "    .dataframe tbody tr th:only-of-type {\n",
       "        vertical-align: middle;\n",
       "    }\n",
       "\n",
       "    .dataframe tbody tr th {\n",
       "        vertical-align: top;\n",
       "    }\n",
       "\n",
       "    .dataframe thead th {\n",
       "        text-align: right;\n",
       "    }\n",
       "</style>\n",
       "<table border=\"1\" class=\"dataframe\">\n",
       "  <thead>\n",
       "    <tr style=\"text-align: right;\">\n",
       "      <th></th>\n",
       "      <th>season</th>\n",
       "      <th>team1</th>\n",
       "      <th>team2</th>\n",
       "      <th>city</th>\n",
       "      <th>toss_decision</th>\n",
       "      <th>toss_winner</th>\n",
       "      <th>venue</th>\n",
       "      <th>winner</th>\n",
       "    </tr>\n",
       "  </thead>\n",
       "  <tbody>\n",
       "    <tr>\n",
       "      <th>0</th>\n",
       "      <td>2008</td>\n",
       "      <td>3</td>\n",
       "      <td>4</td>\n",
       "      <td>2</td>\n",
       "      <td>1</td>\n",
       "      <td>4</td>\n",
       "      <td>16</td>\n",
       "      <td>3</td>\n",
       "    </tr>\n",
       "    <tr>\n",
       "      <th>1</th>\n",
       "      <td>2008</td>\n",
       "      <td>2</td>\n",
       "      <td>14</td>\n",
       "      <td>6</td>\n",
       "      <td>0</td>\n",
       "      <td>2</td>\n",
       "      <td>24</td>\n",
       "      <td>2</td>\n",
       "    </tr>\n",
       "    <tr>\n",
       "      <th>2</th>\n",
       "      <td>2008</td>\n",
       "      <td>6</td>\n",
       "      <td>12</td>\n",
       "      <td>9</td>\n",
       "      <td>0</td>\n",
       "      <td>6</td>\n",
       "      <td>10</td>\n",
       "      <td>12</td>\n",
       "    </tr>\n",
       "    <tr>\n",
       "      <th>3</th>\n",
       "      <td>2008</td>\n",
       "      <td>1</td>\n",
       "      <td>4</td>\n",
       "      <td>24</td>\n",
       "      <td>0</td>\n",
       "      <td>1</td>\n",
       "      <td>35</td>\n",
       "      <td>4</td>\n",
       "    </tr>\n",
       "    <tr>\n",
       "      <th>4</th>\n",
       "      <td>2008</td>\n",
       "      <td>11</td>\n",
       "      <td>3</td>\n",
       "      <td>22</td>\n",
       "      <td>0</td>\n",
       "      <td>11</td>\n",
       "      <td>9</td>\n",
       "      <td>3</td>\n",
       "    </tr>\n",
       "  </tbody>\n",
       "</table>\n",
       "</div>"
      ],
      "text/plain": [
       "   season  team1  team2  city  toss_decision  toss_winner  venue  winner\n",
       "0    2008      3      4     2              1            4     16       3\n",
       "1    2008      2     14     6              0            2     24       2\n",
       "2    2008      6     12     9              0            6     10      12\n",
       "3    2008      1      4    24              0            1     35       4\n",
       "4    2008     11      3    22              0           11      9       3"
      ]
     },
     "execution_count": 55,
     "metadata": {},
     "output_type": "execute_result"
    }
   ],
   "source": [
    "matches1 = to_numerical(matches1, teams, le_venue, le_city, le_toss)\n",
    "matches1.head()"
   ]
  },
  {
   "cell_type": "code",
   "execution_count": 56,
   "metadata": {
    "ExecuteTime": {
     "end_time": "2023-04-17T10:12:40.337370Z",
     "start_time": "2023-04-17T10:12:40.323953Z"
    }
   },
   "outputs": [
    {
     "data": {
      "text/plain": [
       "array([ 3,  2,  6,  1, 11, 14, 11,  2, 11, 14,  4,  3,  1, 12,  2,  3, 12,\n",
       "       11,  6,  2, 11, 14,  1,  2,  4,  2,  6, 12,  3, 11,  4,  2,  3, 12,\n",
       "        4,  3,  2, 14, 12,  3, 12,  6,  1,  3,  4,  3, 14,  4, 11,  1,  6,\n",
       "        4, 14,  1, 11,  6, 14,  2,  1,  4, 14,  3,  2, 14, 11, 12,  6,  4,\n",
       "       11,  4, 14,  2,  1, 12,  3, 14, 11,  2,  1,  4, 11,  2,  3,  1,  2,\n",
       "        6,  3, 11,  4,  2,  1, 11,  6,  1,  3, 11,  3, 14, 12,  2,  6, 12,\n",
       "        1,  3, 14, 12,  2, 12,  6,  2,  1,  4, 12,  2, 11,  3,  1, 14,  4,\n",
       "       11,  6, 14,  2,  1,  6, 12, 11,  6,  1, 11, 14,  3,  4,  6,  2, 11,\n",
       "        3, 12,  6,  1, 12, 14,  4, 12,  3, 14,  2,  1,  3, 12,  6,  2, 14,\n",
       "        3,  4,  1,  2,  3, 12,  1, 11,  1,  3,  6,  2, 14,  1,  6, 14, 11,\n",
       "        1,  1,  2, 11,  2,  2, 11, 15, 12, 14,  3, 12,  4,  2, 15, 11,  6,\n",
       "        1,  2, 11, 16,  6,  2, 11, 16, 15, 14,  1,  3, 12,  1, 15,  2, 12,\n",
       "       16, 11,  3,  1,  4, 12, 14, 16,  2,  1, 12,  3,  6,  1, 15, 11,  4,\n",
       "        2,  1, 15, 14,  2, 11, 14,  6,  2, 15,  3, 11, 14,  6, 16, 14,  2,\n",
       "       16,  1, 11,  2,  3,  4,  3,  4,  2,  2,  3, 16,  6,  4,  2,  6, 16,\n",
       "       11,  3,  2,  1,  4, 16,  6, 11,  2, 14,  6,  1, 11, 16, 14, 11,  2,\n",
       "       14,  6, 16,  1, 11,  4, 16, 14, 11, 12, 14,  3, 12, 11,  2, 11,  6,\n",
       "        4,  1,  2,  3,  6,  2, 11, 12, 16, 14,  1,  6,  4,  1, 12,  6, 11,\n",
       "        4,  3, 14,  3,  2,  4,  6, 14,  3, 11,  6,  3,  2,  2,  2, 12,  4,\n",
       "        7,  6,  1, 16,  4,  6,  1, 14,  3,  6, 12,  1,  4,  3, 14, 16, 14,\n",
       "       12,  7,  6,  2, 14,  3,  6,  1, 16,  6,  4, 14,  3,  7, 14,  7,  1,\n",
       "        2, 12,  4,  1,  2,  1,  3,  2,  4,  6, 12,  4,  1, 16,  7, 12,  1,\n",
       "        2, 14,  3,  4, 16,  7,  4,  2, 12,  7, 16,  2,  1,  4,  7, 14, 16,\n",
       "        4,  3,  2,  7,  6,  1,  3, 12,  2,  7,  1,  3,  6,  2, 14,  2,  3,\n",
       "        7,  1,  4, 14,  1,  7,  4,  6,  7,  2, 14, 12,  7,  6, 12,  1, 12,\n",
       "       14,  7, 14, 12,  1, 14,  4,  7,  6,  4,  7,  1,  6,  2,  7,  1, 12,\n",
       "        4,  2, 14,  3,  2,  1, 14,  4,  7, 12,  6,  3,  1, 14, 14,  1,  2,\n",
       "        6,  2,  3, 12, 14,  4,  1,  2, 14,  7,  1, 12, 14,  2,  1, 12,  6,\n",
       "        7,  2, 12,  6,  1,  2, 12,  7,  3,  2, 14,  1,  3,  7,  1,  6,  2,\n",
       "        3, 12,  4,  7,  2, 14,  7,  4,  2,  7,  2, 14,  1,  7, 14,  6,  7,\n",
       "        1,  4,  4,  1,  1, 12, 14,  4,  3, 17, 14,  7,  1, 17,  4,  1, 14,\n",
       "        4, 13,  4, 12, 14,  4, 17,  1,  7, 13,  3, 17, 12,  7, 14, 17,  4,\n",
       "       13,  3, 12, 13, 17, 14,  7,  3,  4,  7,  4,  7,  1,  4, 17, 14,  1,\n",
       "        3, 12,  4,  3,  7, 14,  1,  3, 12, 13,  7, 13,  7,  7,  1, 13, 17,\n",
       "        4, 13,  3,  4, 12,  7, 14,  4, 17,  3, 12, 13, 17, 12,  7,  4,  7,\n",
       "       14,  3,  1,  7, 14,  3, 17, 17,  4, 12,  7, 17, 13, 12,  7,  4, 13,\n",
       "        7,  3, 13, 14, 17,  1,  4, 14,  1, 14, 13, 14, 12, 13,  1, 14,  4,\n",
       "       17,  7,  3,  1,  1, 12,  4,  6,  3,  6,  1, 14,  1,  3,  6, 14,  3,\n",
       "        1,  6, 14,  2,  3, 12,  2,  1, 14,  7,  4,  7, 12,  2,  7,  4,  2,\n",
       "        4, 12,  2, 14,  4, 12,  1,  6,  7,  6,  1, 12,  2,  3, 12,  7,  1,\n",
       "       14,  6,  1,  4, 12,  6,  7, 12, 14,  7,  3,  7,  7,  4,  7,  8, 14,\n",
       "        8,  3,  1,  6,  1,  3,  7,  2, 14,  4,  1,  8,  4,  2,  1,  4,  6,\n",
       "        7,  3, 14,  6,  3,  1, 14,  3,  8,  4, 14,  2,  1,  4,  1, 14,  3,\n",
       "        4,  6,  7,  4,  3,  1,  7,  8,  3,  7,  2,  1, 14,  6,  7,  2,  3,\n",
       "        2,  7,  8,  1,  1,  8,  7,  6,  3, 14,  2,  3,  6,  4,  8,  6, 14,\n",
       "        2,  4,  8,  1, 14,  4,  1,  3,  7,  6, 14,  2,  7,  1,  4,  7,  8,\n",
       "        4,  1,  6,  8,  7,  1,  2, 14,  3,  6,  2,  3, 14,  4,  6,  3,  7,\n",
       "        1,  2, 14,  8,  4,  2,  3,  8,  7,  8,  4,  8,  8,  2,  8,  4,  8,\n",
       "        4,  7,  3,  2,  4,  6,  8,  3,  4,  6,  1,  3,  7,  6,  1,  3,  7,\n",
       "        4,  2,  7,  8,  4,  1,  8,  5,  3,  2,  5,  6,  1,  5,  8,  1,  2,\n",
       "        8,  5,  7,  2,  6,  5,  4,  3,  5,  8,  2,  8,  4,  1,  5,  6,  7,\n",
       "        3,  6,  7,  2,  1,  2,  8,  5,  9,  7,  4, 10,  3,  1,  9,  2,  7,\n",
       "        6,  3, 10,  5,  2,  4,  3,  6,  7,  2,  1,  6,  7,  1,  8,  5,  9,\n",
       "        6, 10,  8,  1,  8,  3,  4, 10,  5,  4,  9,  8,  5,  9,  6,  8,  7,\n",
       "        3,  9,  4,  8,  9,  5, 10,  7,  2,  1, 10,  6,  2,  4,  3,  2, 10,\n",
       "        5,  1,  3,  4,  6,  1,  7,  9, 10,  6,  9,  9,  5, 10,  7,  4,  2,\n",
       "        8,  6,  3, 10,  6,  1,  9,  7,  4,  8,  2,  5,  3,  4, 10,  1,  9],\n",
       "      dtype=int64)"
      ]
     },
     "execution_count": 56,
     "metadata": {},
     "output_type": "execute_result"
    }
   ],
   "source": [
    "matches1['team1'].values"
   ]
  },
  {
   "cell_type": "code",
   "execution_count": 57,
   "metadata": {
    "ExecuteTime": {
     "end_time": "2023-04-17T10:12:48.225612Z",
     "start_time": "2023-04-17T10:12:48.195607Z"
    }
   },
   "outputs": [
    {
     "name": "stdout",
     "output_type": "stream",
     "text": [
      "<class 'pandas.core.frame.DataFrame'>\n",
      "Int64Index: 969 entries, 0 to 972\n",
      "Data columns (total 8 columns):\n",
      " #   Column         Non-Null Count  Dtype\n",
      "---  ------         --------------  -----\n",
      " 0   season         969 non-null    int64\n",
      " 1   team1          969 non-null    int64\n",
      " 2   team2          969 non-null    int64\n",
      " 3   city           969 non-null    int32\n",
      " 4   toss_decision  969 non-null    int32\n",
      " 5   toss_winner    969 non-null    int64\n",
      " 6   venue          969 non-null    int32\n",
      " 7   winner         969 non-null    int64\n",
      "dtypes: int32(3), int64(5)\n",
      "memory usage: 56.8 KB\n"
     ]
    }
   ],
   "source": [
    "matches1.info()"
   ]
  },
  {
   "cell_type": "markdown",
   "metadata": {},
   "source": [
    "## Split dataset X into Train and Test \n"
   ]
  },
  {
   "cell_type": "code",
   "execution_count": 58,
   "metadata": {
    "ExecuteTime": {
     "end_time": "2023-04-17T10:12:57.553652Z",
     "start_time": "2023-04-17T10:12:57.543392Z"
    }
   },
   "outputs": [
    {
     "data": {
      "text/html": [
       "<div>\n",
       "<style scoped>\n",
       "    .dataframe tbody tr th:only-of-type {\n",
       "        vertical-align: middle;\n",
       "    }\n",
       "\n",
       "    .dataframe tbody tr th {\n",
       "        vertical-align: top;\n",
       "    }\n",
       "\n",
       "    .dataframe thead th {\n",
       "        text-align: right;\n",
       "    }\n",
       "</style>\n",
       "<table border=\"1\" class=\"dataframe\">\n",
       "  <thead>\n",
       "    <tr style=\"text-align: right;\">\n",
       "      <th></th>\n",
       "      <th>season</th>\n",
       "      <th>team1</th>\n",
       "      <th>team2</th>\n",
       "      <th>city</th>\n",
       "      <th>toss_decision</th>\n",
       "      <th>toss_winner</th>\n",
       "      <th>venue</th>\n",
       "    </tr>\n",
       "  </thead>\n",
       "  <tbody>\n",
       "    <tr>\n",
       "      <th>0</th>\n",
       "      <td>2008</td>\n",
       "      <td>3</td>\n",
       "      <td>4</td>\n",
       "      <td>2</td>\n",
       "      <td>1</td>\n",
       "      <td>4</td>\n",
       "      <td>16</td>\n",
       "    </tr>\n",
       "    <tr>\n",
       "      <th>1</th>\n",
       "      <td>2008</td>\n",
       "      <td>2</td>\n",
       "      <td>14</td>\n",
       "      <td>6</td>\n",
       "      <td>0</td>\n",
       "      <td>2</td>\n",
       "      <td>24</td>\n",
       "    </tr>\n",
       "    <tr>\n",
       "      <th>2</th>\n",
       "      <td>2008</td>\n",
       "      <td>6</td>\n",
       "      <td>12</td>\n",
       "      <td>9</td>\n",
       "      <td>0</td>\n",
       "      <td>6</td>\n",
       "      <td>10</td>\n",
       "    </tr>\n",
       "    <tr>\n",
       "      <th>3</th>\n",
       "      <td>2008</td>\n",
       "      <td>1</td>\n",
       "      <td>4</td>\n",
       "      <td>24</td>\n",
       "      <td>0</td>\n",
       "      <td>1</td>\n",
       "      <td>35</td>\n",
       "    </tr>\n",
       "    <tr>\n",
       "      <th>4</th>\n",
       "      <td>2008</td>\n",
       "      <td>11</td>\n",
       "      <td>3</td>\n",
       "      <td>22</td>\n",
       "      <td>0</td>\n",
       "      <td>11</td>\n",
       "      <td>9</td>\n",
       "    </tr>\n",
       "  </tbody>\n",
       "</table>\n",
       "</div>"
      ],
      "text/plain": [
       "   season  team1  team2  city  toss_decision  toss_winner  venue\n",
       "0    2008      3      4     2              1            4     16\n",
       "1    2008      2     14     6              0            2     24\n",
       "2    2008      6     12     9              0            6     10\n",
       "3    2008      1      4    24              0            1     35\n",
       "4    2008     11      3    22              0           11      9"
      ]
     },
     "execution_count": 58,
     "metadata": {},
     "output_type": "execute_result"
    }
   ],
   "source": [
    "X = matches1.copy()\n",
    "y = X.pop('winner')\n",
    "X.head()"
   ]
  },
  {
   "cell_type": "code",
   "execution_count": 59,
   "metadata": {
    "ExecuteTime": {
     "end_time": "2023-04-17T10:13:01.907260Z",
     "start_time": "2023-04-17T10:13:01.886242Z"
    }
   },
   "outputs": [
    {
     "data": {
      "text/plain": [
       "(3, 4)"
      ]
     },
     "execution_count": 59,
     "metadata": {},
     "output_type": "execute_result"
    }
   ],
   "source": [
    "X.iloc[0,1] , X.iloc[0,2]"
   ]
  },
  {
   "cell_type": "code",
   "execution_count": 60,
   "metadata": {
    "ExecuteTime": {
     "end_time": "2023-04-17T10:13:02.951621Z",
     "start_time": "2023-04-17T10:13:02.940135Z"
    }
   },
   "outputs": [
    {
     "data": {
      "text/plain": [
       "(3, 4)"
      ]
     },
     "execution_count": 60,
     "metadata": {},
     "output_type": "execute_result"
    }
   ],
   "source": [
    "X['team1'][0], X['team2'][0]"
   ]
  },
  {
   "cell_type": "code",
   "execution_count": 61,
   "metadata": {
    "ExecuteTime": {
     "end_time": "2023-04-17T10:13:03.929236Z",
     "start_time": "2023-04-17T10:13:03.919776Z"
    }
   },
   "outputs": [],
   "source": [
    "test_size = 0.30\n",
    "random_state = 101"
   ]
  },
  {
   "cell_type": "code",
   "execution_count": 62,
   "metadata": {
    "ExecuteTime": {
     "end_time": "2023-04-17T10:13:10.269056Z",
     "start_time": "2023-04-17T10:13:10.262361Z"
    }
   },
   "outputs": [],
   "source": [
    "#split data into 75% training and 25% test data\n",
    "X_train, X_test, y_train, y_test = train_test_split(X,y, test_size=test_size, random_state=random_state)\n",
    "\n",
    "# Checking dimensions on the train and test data\n",
    "#print('X_train:{}; X_test:{}; y_train:{}, y_test:{}'.format(X_train.shape, X_test.shape, y_train.shape, y_test.shape))"
   ]
  },
  {
   "cell_type": "markdown",
   "metadata": {},
   "source": [
    "## Model Performance Metrics Function."
   ]
  },
  {
   "cell_type": "code",
   "execution_count": 63,
   "metadata": {
    "ExecuteTime": {
     "end_time": "2023-04-17T10:13:14.527650Z",
     "start_time": "2023-04-17T10:13:14.513066Z"
    },
    "run_control": {
     "marked": false
    }
   },
   "outputs": [],
   "source": [
    "def classification_model(models, X_predictors, y_actual):\n",
    "    \n",
    "    for model, models_name in models.items():\n",
    "        print(\"Generating Metrics for {} \\n\\t{}\".format(models_name, model))\n",
    "        y_predicted = model.predict(X_predictors)\n",
    "        y_predicted_proba = model.predict_proba(X_predictors)\n",
    "        model_performance_metrics(models_name, y_actual, y_predicted)\n",
    "                "
   ]
  },
  {
   "cell_type": "code",
   "execution_count": 64,
   "metadata": {
    "ExecuteTime": {
     "end_time": "2023-04-17T10:13:15.048286Z",
     "start_time": "2023-04-17T10:13:15.033590Z"
    },
    "run_control": {
     "marked": false
    }
   },
   "outputs": [],
   "source": [
    "def model_performance_metrics(models_name, y_actual, y_predicted):\n",
    "    print('\\nAccuracy for {} model is'.format(models_name),'\\n',accuracy_score(y_actual, y_predicted))\n",
    "    print('\\n')\n",
    "    print('Classification report for {} model is'.format(models_name),'\\n',classification_report(y_actual, y_predicted))\n",
    "    print('\\n')\n",
    "    print('Confusion Matrix for {} model is'.format(models_name))\n",
    "    sns.heatmap(confusion_matrix(y_actual, y_predicted),annot=True,fmt='d',cbar=False)\n",
    "    plt.title('Confusion Matrix for {}'.format(models_name))\n",
    "    plt.xlabel('Predicted Label')\n",
    "    plt.ylabel('Actual Label')\n",
    "    plt.show()"
   ]
  },
  {
   "cell_type": "markdown",
   "metadata": {},
   "source": [
    "#### Compare ROC curves and Calculate Area under the curve for all models"
   ]
  },
  {
   "cell_type": "code",
   "execution_count": 65,
   "metadata": {
    "ExecuteTime": {
     "end_time": "2023-04-17T10:13:16.561504Z",
     "start_time": "2023-04-17T10:13:16.554943Z"
    }
   },
   "outputs": [],
   "source": [
    "def auc_roc(model_name, y_actual, y_predict_proba):\n",
    "    print('Area under the curve for {} Model is'.format(model_name),roc_auc_score(y_actual, y_predict_proba))\n",
    "    \n",
    "    plt.figure(figsize=(12,7))\n",
    "    fpr, tpr, thresholds = roc_curve(y_actual, y_predict_proba)\n",
    "    plt.plot(fpr, tpr, marker='.') \n",
    "    plt.plot([0, 1], [0, 1], linestyle='--')\n",
    "    plt.title('ROC Curve for {}'.format('DecisionTreeClassifier, RandomForestClassifier and ANN'))\n",
    "    plt.xlabel('FPR')\n",
    "    plt.ylabel('TPR')\n",
    "    plt.legend(list(model.values()))\n",
    "    plt.show()"
   ]
  },
  {
   "cell_type": "markdown",
   "metadata": {},
   "source": [
    "## Building a Random Forest Classifier Model and fit it on the Training Set\n"
   ]
  },
  {
   "cell_type": "markdown",
   "metadata": {
    "ExecuteTime": {
     "end_time": "2020-10-09T05:49:59.005908Z",
     "start_time": "2020-10-09T05:49:58.992876Z"
    }
   },
   "source": [
    "### Grid Search Cross Validation of Random Forest Features"
   ]
  },
  {
   "cell_type": "code",
   "execution_count": 66,
   "metadata": {
    "ExecuteTime": {
     "end_time": "2023-04-17T10:13:19.688717Z",
     "start_time": "2023-04-17T10:13:19.666800Z"
    }
   },
   "outputs": [],
   "source": [
    "from sklearn.model_selection import GridSearchCV\n",
    "\n",
    "param_grid = {\n",
    "    'max_depth': [10],\n",
    "    'max_features': [5,6],\n",
    "    'min_samples_leaf': [2,4,5],\n",
    "    'min_samples_split': [5,10],\n",
    "    'n_estimators': [101,151]\n",
    "}\n",
    "\n",
    "rfcl = RandomForestClassifier(random_state=random_state, class_weight='balanced', verbose=0, oob_score=1)\n",
    "\n",
    "grid_search = GridSearchCV(estimator = rfcl, param_grid = param_grid, cv = 5)\n",
    "\n",
    "#RandomForestClassifier(class_weight='balanced', max_depth=10, max_features=7,\n",
    "#                       min_samples_leaf=2, n_estimators=101, random_state=100)"
   ]
  },
  {
   "cell_type": "code",
   "execution_count": 67,
   "metadata": {
    "ExecuteTime": {
     "end_time": "2023-04-17T10:13:54.524399Z",
     "start_time": "2023-04-17T10:13:20.463442Z"
    }
   },
   "outputs": [
    {
     "data": {
      "text/plain": [
       "GridSearchCV(cv=5,\n",
       "             estimator=RandomForestClassifier(class_weight='balanced',\n",
       "                                              oob_score=1, random_state=101),\n",
       "             param_grid={'max_depth': [10], 'max_features': [5, 6],\n",
       "                         'min_samples_leaf': [2, 4, 5],\n",
       "                         'min_samples_split': [5, 10],\n",
       "                         'n_estimators': [101, 151]})"
      ]
     },
     "execution_count": 67,
     "metadata": {},
     "output_type": "execute_result"
    }
   ],
   "source": [
    "grid_search.fit(X, y)"
   ]
  },
  {
   "cell_type": "code",
   "execution_count": 68,
   "metadata": {
    "ExecuteTime": {
     "end_time": "2023-04-17T10:14:16.827700Z",
     "start_time": "2023-04-17T10:14:16.822190Z"
    }
   },
   "outputs": [
    {
     "data": {
      "text/plain": [
       "{'max_depth': 10,\n",
       " 'max_features': 6,\n",
       " 'min_samples_leaf': 2,\n",
       " 'min_samples_split': 5,\n",
       " 'n_estimators': 101}"
      ]
     },
     "execution_count": 68,
     "metadata": {},
     "output_type": "execute_result"
    }
   ],
   "source": [
    "grid_search.best_params_"
   ]
  },
  {
   "cell_type": "code",
   "execution_count": 69,
   "metadata": {
    "ExecuteTime": {
     "end_time": "2023-04-17T10:14:20.592262Z",
     "start_time": "2023-04-17T10:14:20.584704Z"
    }
   },
   "outputs": [],
   "source": [
    "best_grid = grid_search.best_estimator_"
   ]
  },
  {
   "cell_type": "code",
   "execution_count": 70,
   "metadata": {
    "ExecuteTime": {
     "end_time": "2023-04-17T10:14:21.241884Z",
     "start_time": "2023-04-17T10:14:21.220596Z"
    }
   },
   "outputs": [
    {
     "data": {
      "text/plain": [
       "RandomForestClassifier(class_weight='balanced', max_depth=10, max_features=6,\n",
       "                       min_samples_leaf=2, min_samples_split=5,\n",
       "                       n_estimators=101, oob_score=1, random_state=101)"
      ]
     },
     "execution_count": 70,
     "metadata": {},
     "output_type": "execute_result"
    }
   ],
   "source": [
    "best_grid"
   ]
  },
  {
   "cell_type": "code",
   "execution_count": 71,
   "metadata": {
    "ExecuteTime": {
     "end_time": "2023-04-17T10:14:22.403656Z",
     "start_time": "2023-04-17T10:14:22.118673Z"
    }
   },
   "outputs": [
    {
     "data": {
      "image/png": "[encoded data removed]",
      "text/plain": [
       "<Figure size 864x504 with 1 Axes>"
      ]
     },
     "metadata": {
      "needs_background": "light"
     },
     "output_type": "display_data"
    }
   ],
   "source": [
    "x=pd.DataFrame(best_grid.feature_importances_*100,index=X.columns).sort_values(by=0,ascending=False)\n",
    "plt.figure(figsize=(12,7))\n",
    "sns.barplot(x=x[0],y=x.index,palette='rainbow')\n",
    "plt.ylabel('Feature Name')\n",
    "plt.xlabel('Feature Importance in %')\n",
    "plt.title('Feature Importance Plot')\n",
    "plt.show()"
   ]
  },
  {
   "cell_type": "code",
   "execution_count": 72,
   "metadata": {
    "ExecuteTime": {
     "end_time": "2023-04-17T10:14:27.235598Z",
     "start_time": "2023-04-17T10:14:27.216526Z"
    }
   },
   "outputs": [],
   "source": [
    "model_gscv = {best_grid:'GridSearchCV - RandomForest Classifier'}"
   ]
  },
  {
   "cell_type": "markdown",
   "metadata": {},
   "source": [
    "### Generate Training data Model performance Metrics"
   ]
  },
  {
   "cell_type": "code",
   "execution_count": 73,
   "metadata": {
    "ExecuteTime": {
     "end_time": "2023-04-17T10:14:29.567893Z",
     "start_time": "2023-04-17T10:14:28.889990Z"
    }
   },
   "outputs": [
    {
     "name": "stdout",
     "output_type": "stream",
     "text": [
      "\n",
      "Checking the Metrics for Predictions on the Training set\n",
      "\n",
      "Generating Metrics for GridSearchCV - RandomForest Classifier \n",
      "\tRandomForestClassifier(class_weight='balanced', max_depth=10, max_features=6,\n",
      "                       min_samples_leaf=2, min_samples_split=5,\n",
      "                       n_estimators=101, oob_score=1, random_state=101)\n",
      "\n",
      "Accuracy for GridSearchCV - RandomForest Classifier model is \n",
      " 0.7296181630546955\n",
      "\n",
      "\n",
      "Classification report for GridSearchCV - RandomForest Classifier model is \n",
      "               precision    recall  f1-score   support\n",
      "\n",
      "           1       0.78      0.69      0.73       133\n",
      "           2       0.82      0.72      0.77       123\n",
      "           3       0.76      0.61      0.68       116\n",
      "           4       0.79      0.52      0.63       111\n",
      "           5       0.83      0.94      0.88        16\n",
      "           6       0.77      0.69      0.73       100\n",
      "           7       0.76      0.74      0.75        78\n",
      "           8       0.64      1.00      0.78        35\n",
      "           9       0.71      1.00      0.83        15\n",
      "          10       0.71      1.00      0.83        12\n",
      "          11       0.57      0.97      0.72        29\n",
      "          12       0.60      0.81      0.69        67\n",
      "          13       0.75      0.92      0.83        13\n",
      "          14       0.72      0.76      0.74        88\n",
      "          15       0.67      1.00      0.80         6\n",
      "          16       0.57      1.00      0.73        12\n",
      "          17       0.65      1.00      0.79        15\n",
      "\n",
      "    accuracy                           0.73       969\n",
      "   macro avg       0.71      0.85      0.76       969\n",
      "weighted avg       0.75      0.73      0.73       969\n",
      "\n",
      "\n",
      "\n",
      "Confusion Matrix for GridSearchCV - RandomForest Classifier model is\n"
     ]
    },
    {
     "data": {
      "image/png": "[encoded data removed]",
      "text/plain": [
       "<Figure size 432x288 with 1 Axes>"
      ]
     },
     "metadata": {
      "needs_background": "light"
     },
     "output_type": "display_data"
    }
   ],
   "source": [
    "print (\"\\nChecking the Metrics for Predictions on the Training set\\n\")\n",
    "classification_model(model_gscv, X, y)"
   ]
  },
  {
   "cell_type": "markdown",
   "metadata": {},
   "source": [
    "## Verify the Predictions on Testing Dataset"
   ]
  },
  {
   "cell_type": "code",
   "execution_count": 74,
   "metadata": {
    "ExecuteTime": {
     "end_time": "2023-04-17T10:14:43.596176Z",
     "start_time": "2023-04-17T10:14:43.586852Z"
    }
   },
   "outputs": [],
   "source": [
    "#'team1', 'team2','city', 'toss_decision', 'toss_winner', 'venue', \n",
    "teamcode = teams['team_codes']\n",
    "\n",
    "def predict_winner(model, input):\n",
    "    output=model.predict(input)\n",
    "    winner_name = get_team_name(output, teams)\n",
    "#    print(\"The predicted winner is Team {} - {}\".format(output, winner_name))\n",
    "    return winner_name"
   ]
  },
  {
   "cell_type": "markdown",
   "metadata": {},
   "source": [
    "## Get Predicted Winner for the given input below."
   ]
  },
  {
   "cell_type": "code",
   "execution_count": 75,
   "metadata": {
    "ExecuteTime": {
     "end_time": "2023-04-17T10:14:44.945219Z",
     "start_time": "2023-04-17T10:14:44.931300Z"
    }
   },
   "outputs": [],
   "source": [
    "def get_prediction(season,T1,T2,city,toss,toss_decision,venue, best_grid):\n",
    "    season = season\n",
    "    team1= teamcode[T1]\n",
    "    team2= teamcode[T2]\n",
    "    city = le_city.transform([city])[0] \n",
    "    toss_decision = le_toss.transform([toss_decision])[0] \n",
    "    toss_winner= teamcode[toss]\n",
    "    venue = le_venue.transform([venue])[0]  \n",
    "\n",
    "    input=[season, team1, team2, city, toss_decision, toss_winner, venue]\n",
    "    input = np.array(input).reshape((1, -1))\n",
    "\n",
    "    winner = predict_winner(best_grid, input)\n",
    "    return winner"
   ]
  },
  {
   "cell_type": "code",
   "execution_count": 78,
   "metadata": {
    "ExecuteTime": {
     "end_time": "2023-04-17T10:15:29.374707Z",
     "start_time": "2023-04-17T10:15:29.341014Z"
    }
   },
   "outputs": [
    {
     "name": "stdout",
     "output_type": "stream",
     "text": [
      "The predicted winner is: Royal Challengers Bangalore\n"
     ]
    }
   ],
   "source": [
    "season = 2020\n",
    "team1= teamcode['KKR'] \n",
    "team2= teamcode['RCB']\n",
    "city = le_city.transform(['Bengaluru'])[0] \n",
    "toss_decision = le_toss.transform(['bat'])[0]  #[0-'bat', 1-'field']\n",
    "toss_winner= teamcode['RCB']\n",
    "venue = le_venue.transform(['M Chinnaswamy Stadium'])[0]  \n",
    "\n",
    "input=[season, team1, team2, city, toss_decision, toss_winner, venue]\n",
    "input = np.array(input).reshape((1, -1))\n",
    "#print(input)\n",
    "\n",
    "winner = predict_winner(best_grid, input)\n",
    "print(\"The predicted winner is:\", winner)"
   ]
  },
  {
   "cell_type": "code",
   "execution_count": 79,
   "metadata": {
    "ExecuteTime": {
     "end_time": "2023-04-17T10:15:33.590426Z",
     "start_time": "2023-04-17T10:15:33.554583Z"
    }
   },
   "outputs": [
    {
     "name": "stdout",
     "output_type": "stream",
     "text": [
      "The predicted winner is: Chennai Super Kings\n"
     ]
    }
   ],
   "source": [
    "#Get following Input from webpage\n",
    "season = 2020\n",
    "T1 = 'RCB'\n",
    "T2 = 'CSK'\n",
    "city = 'Dubai'\n",
    "toss = 'CSK'\n",
    "toss_decision = 'bat'\n",
    "venue = 'Dubai International Cricket Stadium'\n",
    "\n",
    "# Pass the best_grid and get_prediction function to pickle and input the above variables from webpage.\n",
    "winner = get_prediction(season,T1,T2,city,toss,toss_decision,venue, best_grid)\n",
    "\n",
    "#Get output in return, which can be displayed in webpage.\n",
    "print(\"The predicted winner is:\", winner)"
   ]
  },
  {
   "cell_type": "code",
   "execution_count": 80,
   "metadata": {
    "ExecuteTime": {
     "end_time": "2023-04-17T10:16:20.313210Z",
     "start_time": "2023-04-17T10:16:20.287071Z"
    }
   },
   "outputs": [],
   "source": [
    "pickle.dump(best_grid, open('iplmodel.pkl', 'wb'))"
   ]
  },
  {
   "cell_type": "markdown",
   "metadata": {},
   "source": [
    "## Testing the Code and lookup values"
   ]
  },
  {
   "cell_type": "code",
   "execution_count": 205,
   "metadata": {
    "ExecuteTime": {
     "end_time": "2023-04-18T11:50:02.596628Z",
     "start_time": "2023-04-18T11:50:02.576208Z"
    }
   },
   "outputs": [],
   "source": [
    "teamname = {1: 'Mumbai Indians', 2: 'Chennai Super Kings', 3: 'Kolkata Knight Riders', 4: 'Royal Challengers Bangalore',\n",
    "                        5: 'Punjab Kings', 6: 'Rajasthan Royals', 7: 'Sunrisers Hyderabad', 8: 'Delhi Capitals', 9: 'Gujarat Titans', 10: 'Lucknow Super Giants'}\n",
    "\n",
    "col=[\"season\", \"team1\", \"team2\", \"city\", \"toss_decision\", \"toss_winner\", \"venue\"]"
   ]
  },
  {
   "cell_type": "code",
   "execution_count": 206,
   "metadata": {
    "ExecuteTime": {
     "end_time": "2023-04-18T11:50:05.375361Z",
     "start_time": "2023-04-18T11:50:05.344188Z"
    }
   },
   "outputs": [
    {
     "data": {
      "text/html": [
       "<div>\n",
       "<style scoped>\n",
       "    .dataframe tbody tr th:only-of-type {\n",
       "        vertical-align: middle;\n",
       "    }\n",
       "\n",
       "    .dataframe tbody tr th {\n",
       "        vertical-align: top;\n",
       "    }\n",
       "\n",
       "    .dataframe thead th {\n",
       "        text-align: right;\n",
       "    }\n",
       "</style>\n",
       "<table border=\"1\" class=\"dataframe\">\n",
       "  <thead>\n",
       "    <tr style=\"text-align: right;\">\n",
       "      <th></th>\n",
       "      <th>season</th>\n",
       "      <th>team1</th>\n",
       "      <th>team2</th>\n",
       "      <th>city</th>\n",
       "      <th>toss_decision</th>\n",
       "      <th>toss_winner</th>\n",
       "      <th>venue</th>\n",
       "    </tr>\n",
       "  </thead>\n",
       "  <tbody>\n",
       "    <tr>\n",
       "      <th>0</th>\n",
       "      <td>2023</td>\n",
       "      <td>2</td>\n",
       "      <td>4</td>\n",
       "      <td>2</td>\n",
       "      <td>0</td>\n",
       "      <td>2</td>\n",
       "      <td>16</td>\n",
       "    </tr>\n",
       "  </tbody>\n",
       "</table>\n",
       "</div>"
      ],
      "text/plain": [
       "   season  team1  team2  city  toss_decision  toss_winner  venue\n",
       "0    2023      2      4     2              0            2     16"
      ]
     },
     "execution_count": 206,
     "metadata": {},
     "output_type": "execute_result"
    }
   ],
   "source": [
    "input_val = [2023, 2, 4, 2, 0, 2, 16]\n",
    "\n",
    "pred_df = pd.DataFrame(data=np.array(input_val).reshape(1,-1), columns=col)\n",
    "pred_df.head()"
   ]
  },
  {
   "cell_type": "code",
   "execution_count": 207,
   "metadata": {
    "ExecuteTime": {
     "end_time": "2023-04-18T11:50:06.457356Z",
     "start_time": "2023-04-18T11:50:06.429393Z"
    }
   },
   "outputs": [
    {
     "data": {
      "text/plain": [
       "(array([3], dtype=int64), 3, 3, 'Kolkata Knight Riders')"
      ]
     },
     "execution_count": 207,
     "metadata": {},
     "output_type": "execute_result"
    }
   ],
   "source": [
    "preds_result = best_grid.predict(np.array(pred_df))\n",
    "preds_result, preds_result[0], int(preds_result), teamname[preds[0]]"
   ]
  },
  {
   "cell_type": "code",
   "execution_count": 197,
   "metadata": {
    "ExecuteTime": {
     "end_time": "2023-04-18T11:42:42.702565Z",
     "start_time": "2023-04-18T11:42:42.690655Z"
    }
   },
   "outputs": [
    {
     "data": {
      "text/plain": [
       "array([3], dtype=int64)"
      ]
     },
     "execution_count": 197,
     "metadata": {},
     "output_type": "execute_result"
    }
   ],
   "source": [
    "preds"
   ]
  },
  {
   "cell_type": "code",
   "execution_count": 209,
   "metadata": {
    "ExecuteTime": {
     "end_time": "2023-04-18T11:52:06.161305Z",
     "start_time": "2023-04-18T11:52:06.147379Z"
    }
   },
   "outputs": [
    {
     "name": "stdout",
     "output_type": "stream",
     "text": [
      "Prediction is Kolkata Knight Riders, while Team1: Chennai Super Kings and Team2:Royal Challengers Bangalore. Prediction defaulted to Team2\n",
      "Prediction is wrong 3\n",
      "Wrong prediction Royal Challengers Bangalore.\n"
     ]
    }
   ],
   "source": [
    "if (preds_result[0] == int(pred_df['team1'][0])) or (preds_result[0] == int(pred_df['team2'][0] )):\n",
    "                preds_name = teamname[preds_result[0]]\n",
    "                print(f\"Correct prediction {preds_name}\")\n",
    "                \n",
    "else:\n",
    "                print(f\"Prediction is {teamname[preds_result[0]]}, while Team1: {teamname[pred_df['team1'][0]]} and Team2:{teamname[pred_df['team2'][0]]}. Prediction defaulted to Team2\")\n",
    "                print(f\"Prediction is wrong {preds_result[0]}\")\n",
    "                preds_m = int(pred_df['team2'][0] )\n",
    "                preds_name = teamname[preds_m] + '.'\n",
    "                print(f\"Wrong prediction {preds_name}\")\n",
    "                "
   ]
  },
  {
   "cell_type": "code",
   "execution_count": 177,
   "metadata": {
    "ExecuteTime": {
     "end_time": "2023-04-18T11:07:50.218145Z",
     "start_time": "2023-04-18T11:07:50.203342Z"
    }
   },
   "outputs": [
    {
     "name": "stdout",
     "output_type": "stream",
     "text": [
      "Prediction is Kolkata Knight Riders, while Team1: Chennai Super Kings and Team2:Royal Challengers Bangalore. Prediction defaulted to Team2\n"
     ]
    }
   ],
   "source": [
    "teamname[preds[0]]\n",
    "print( f\"Prediction is {teamname[preds[0]]}, while Team1: {teamname[pred_df['team1'][0]]} and Team2:{teamname[pred_df['team2'][0]]}. Prediction defaulted to Team2\")"
   ]
  },
  {
   "cell_type": "code",
   "execution_count": 175,
   "metadata": {
    "ExecuteTime": {
     "end_time": "2023-04-18T11:03:33.647852Z",
     "start_time": "2023-04-18T11:03:33.640739Z"
    }
   },
   "outputs": [
    {
     "data": {
      "text/plain": [
       "3"
      ]
     },
     "execution_count": 175,
     "metadata": {},
     "output_type": "execute_result"
    }
   ],
   "source": [
    "int(preds)"
   ]
  },
  {
   "cell_type": "code",
   "execution_count": 164,
   "metadata": {
    "ExecuteTime": {
     "end_time": "2023-04-18T10:59:48.722340Z",
     "start_time": "2023-04-18T10:59:48.705340Z"
    }
   },
   "outputs": [
    {
     "data": {
      "text/plain": [
       "2"
      ]
     },
     "execution_count": 164,
     "metadata": {},
     "output_type": "execute_result"
    }
   ],
   "source": [
    "pred_df['team1'][0]"
   ]
  },
  {
   "cell_type": "code",
   "execution_count": 116,
   "metadata": {
    "ExecuteTime": {
     "end_time": "2023-04-18T10:38:58.405121Z",
     "start_time": "2023-04-18T10:38:58.391514Z"
    }
   },
   "outputs": [
    {
     "data": {
      "text/plain": [
       "(1, 7)"
      ]
     },
     "execution_count": 116,
     "metadata": {},
     "output_type": "execute_result"
    }
   ],
   "source": [
    "np.array(pred_df)"
   ]
  },
  {
   "cell_type": "code",
   "execution_count": 215,
   "metadata": {
    "ExecuteTime": {
     "end_time": "2023-04-18T12:11:53.951309Z",
     "start_time": "2023-04-18T12:11:53.933594Z"
    }
   },
   "outputs": [
    {
     "data": {
      "text/plain": [
       "'team1'"
      ]
     },
     "execution_count": 215,
     "metadata": {},
     "output_type": "execute_result"
    }
   ],
   "source": [
    "x = np.random.randint(1, 2)\n",
    "\"team\" + str(x)"
   ]
  },
  {
   "cell_type": "code",
   "execution_count": null,
   "metadata": {},
   "outputs": [],
   "source": []
  },
  {
   "cell_type": "code",
   "execution_count": null,
   "metadata": {},
   "outputs": [],
   "source": []
  },
  {
   "cell_type": "code",
   "execution_count": null,
   "metadata": {},
   "outputs": [],
   "source": []
  },
  {
   "cell_type": "code",
   "execution_count": 81,
   "metadata": {
    "ExecuteTime": {
     "end_time": "2023-04-17T10:16:21.849960Z",
     "start_time": "2023-04-17T10:16:21.828431Z"
    }
   },
   "outputs": [
    {
     "name": "stdout",
     "output_type": "stream",
     "text": [
      "    <option value='0'>bat</option>\n",
      "    <option value='1'>field</option>\n"
     ]
    },
    {
     "data": {
      "text/plain": [
       "{0: 'bat', 1: 'field'}"
      ]
     },
     "execution_count": 81,
     "metadata": {},
     "output_type": "execute_result"
    }
   ],
   "source": [
    "toss_dict = {}\n",
    "for t in le_toss.classes_:\n",
    "    a = le_toss.transform([t])[0]\n",
    "    print(\"    <option value='{}'>{}</option>\".format(a,t))\n",
    "    toss_dict[a] = t\n",
    "toss_dict"
   ]
  },
  {
   "cell_type": "code",
   "execution_count": 82,
   "metadata": {
    "ExecuteTime": {
     "end_time": "2023-04-17T10:16:23.040720Z",
     "start_time": "2023-04-17T10:16:22.996432Z"
    }
   },
   "outputs": [
    {
     "name": "stdout",
     "output_type": "stream",
     "text": [
      "    <option value='0'>Abu Dhabi</option>\n",
      "    <option value='1'>Ahmedabad</option>\n",
      "    <option value='2'>Bengaluru</option>\n",
      "    <option value='3'>Bloemfontein</option>\n",
      "    <option value='4'>Cape Town</option>\n",
      "    <option value='5'>Centurion</option>\n",
      "    <option value='6'>Chandigarh</option>\n",
      "    <option value='7'>Chennai</option>\n",
      "    <option value='8'>Cuttack</option>\n",
      "    <option value='9'>Delhi</option>\n",
      "    <option value='10'>Dharamsala</option>\n",
      "    <option value='11'>Dubai</option>\n",
      "    <option value='12'>Durban</option>\n",
      "    <option value='13'>East London</option>\n",
      "    <option value='14'>Guwahati</option>\n",
      "    <option value='15'>Hyderabad</option>\n",
      "    <option value='16'>Indore</option>\n",
      "    <option value='17'>Jaipur</option>\n",
      "    <option value='18'>Johannesburg</option>\n",
      "    <option value='19'>Kanpur</option>\n",
      "    <option value='20'>Kimberley</option>\n",
      "    <option value='21'>Kochi</option>\n",
      "    <option value='22'>Kolkata</option>\n",
      "    <option value='23'>Lucknow</option>\n",
      "    <option value='24'>Mumbai</option>\n",
      "    <option value='25'>Nagpur</option>\n",
      "    <option value='26'>Navi Mumbai</option>\n",
      "    <option value='27'>Port Elizabeth</option>\n",
      "    <option value='28'>Pune</option>\n",
      "    <option value='29'>Raipur</option>\n",
      "    <option value='30'>Rajkot</option>\n",
      "    <option value='31'>Ranchi</option>\n",
      "    <option value='32'>Sharjah</option>\n",
      "    <option value='33'>Visakhapatnam</option>\n"
     ]
    },
    {
     "data": {
      "text/plain": [
       "{0: 'Abu Dhabi',\n",
       " 1: 'Ahmedabad',\n",
       " 2: 'Bengaluru',\n",
       " 3: 'Bloemfontein',\n",
       " 4: 'Cape Town',\n",
       " 5: 'Centurion',\n",
       " 6: 'Chandigarh',\n",
       " 7: 'Chennai',\n",
       " 8: 'Cuttack',\n",
       " 9: 'Delhi',\n",
       " 10: 'Dharamsala',\n",
       " 11: 'Dubai',\n",
       " 12: 'Durban',\n",
       " 13: 'East London',\n",
       " 14: 'Guwahati',\n",
       " 15: 'Hyderabad',\n",
       " 16: 'Indore',\n",
       " 17: 'Jaipur',\n",
       " 18: 'Johannesburg',\n",
       " 19: 'Kanpur',\n",
       " 20: 'Kimberley',\n",
       " 21: 'Kochi',\n",
       " 22: 'Kolkata',\n",
       " 23: 'Lucknow',\n",
       " 24: 'Mumbai',\n",
       " 25: 'Nagpur',\n",
       " 26: 'Navi Mumbai',\n",
       " 27: 'Port Elizabeth',\n",
       " 28: 'Pune',\n",
       " 29: 'Raipur',\n",
       " 30: 'Rajkot',\n",
       " 31: 'Ranchi',\n",
       " 32: 'Sharjah',\n",
       " 33: 'Visakhapatnam'}"
      ]
     },
     "execution_count": 82,
     "metadata": {},
     "output_type": "execute_result"
    }
   ],
   "source": [
    "city_dict = {}\n",
    "for c in le_city.classes_:\n",
    "    a = le_city.transform([c])[0]\n",
    "    print(\"    <option value='{}'>{}</option>\".format(a,c))\n",
    "    city_dict[a] = c\n",
    "city_dict"
   ]
  },
  {
   "cell_type": "code",
   "execution_count": 83,
   "metadata": {
    "ExecuteTime": {
     "end_time": "2023-04-17T10:16:29.745361Z",
     "start_time": "2023-04-17T10:16:29.718537Z"
    }
   },
   "outputs": [
    {
     "name": "stdout",
     "output_type": "stream",
     "text": [
      "    <option value='0'>ACA-VDCA Stadium</option>\n",
      "    <option value='1'>Barabati Stadium</option>\n",
      "    <option value='2'>Barsapara Cricket Stadium</option>\n",
      "    <option value='3'>Bharat Ratna Shri Atal Bihari Vajpayee Ekana Cricket Stadium</option>\n",
      "    <option value='4'>Brabourne Stadium</option>\n",
      "    <option value='5'>Buffalo Park</option>\n",
      "    <option value='6'>De Beers Diamond Oval</option>\n",
      "    <option value='7'>Dr DY Patil Sports Academy</option>\n",
      "    <option value='8'>Dubai International Cricket Stadium</option>\n",
      "    <option value='9'>Eden Gardens</option>\n",
      "    <option value='10'>Feroz Shah Kotla</option>\n",
      "    <option value='11'>Green Park</option>\n",
      "    <option value='12'>Himachal Pradesh Cricket Association Stadium</option>\n",
      "    <option value='13'>Holkar Cricket Stadium</option>\n",
      "    <option value='14'>JSCA International Stadium Complex</option>\n",
      "    <option value='15'>Kingsmead</option>\n",
      "    <option value='16'>M Chinnaswamy Stadium</option>\n",
      "    <option value='17'>MA Chidambaram Stadium Chepauk</option>\n",
      "    <option value='18'>Maharashtra Cricket Association Stadium</option>\n",
      "    <option value='19'>Narendra Modi Stadium</option>\n",
      "    <option value='20'>Nehru Stadium</option>\n",
      "    <option value='21'>New Wanderers Stadium</option>\n",
      "    <option value='22'>Newlands</option>\n",
      "    <option value='23'>OUTsurance Oval</option>\n",
      "    <option value='24'>Punjab Cricket Association Stadium Mohali</option>\n",
      "    <option value='25'>Rajiv Gandhi International Stadium</option>\n",
      "    <option value='26'>Sardar Patel Stadium Motera</option>\n",
      "    <option value='27'>Saurashtra Cricket Association Stadium</option>\n",
      "    <option value='28'>Sawai Mansingh Stadium</option>\n",
      "    <option value='29'>Shaheed Veer Narayan Singh International Stadium</option>\n",
      "    <option value='30'>Sharjah Cricket Stadium</option>\n",
      "    <option value='31'>Sheikh Zayed Stadium</option>\n",
      "    <option value='32'>St Georges Park</option>\n",
      "    <option value='33'>SuperSport Park</option>\n",
      "    <option value='34'>Vidarbha Cricket Association Stadium Jamtha</option>\n",
      "    <option value='35'>Wankhede Stadium</option>\n"
     ]
    },
    {
     "data": {
      "text/plain": [
       "{0: 'ACA-VDCA Stadium',\n",
       " 1: 'Barabati Stadium',\n",
       " 2: 'Barsapara Cricket Stadium',\n",
       " 3: 'Bharat Ratna Shri Atal Bihari Vajpayee Ekana Cricket Stadium',\n",
       " 4: 'Brabourne Stadium',\n",
       " 5: 'Buffalo Park',\n",
       " 6: 'De Beers Diamond Oval',\n",
       " 7: 'Dr DY Patil Sports Academy',\n",
       " 8: 'Dubai International Cricket Stadium',\n",
       " 9: 'Eden Gardens',\n",
       " 10: 'Feroz Shah Kotla',\n",
       " 11: 'Green Park',\n",
       " 12: 'Himachal Pradesh Cricket Association Stadium',\n",
       " 13: 'Holkar Cricket Stadium',\n",
       " 14: 'JSCA International Stadium Complex',\n",
       " 15: 'Kingsmead',\n",
       " 16: 'M Chinnaswamy Stadium',\n",
       " 17: 'MA Chidambaram Stadium Chepauk',\n",
       " 18: 'Maharashtra Cricket Association Stadium',\n",
       " 19: 'Narendra Modi Stadium',\n",
       " 20: 'Nehru Stadium',\n",
       " 21: 'New Wanderers Stadium',\n",
       " 22: 'Newlands',\n",
       " 23: 'OUTsurance Oval',\n",
       " 24: 'Punjab Cricket Association Stadium Mohali',\n",
       " 25: 'Rajiv Gandhi International Stadium',\n",
       " 26: 'Sardar Patel Stadium Motera',\n",
       " 27: 'Saurashtra Cricket Association Stadium',\n",
       " 28: 'Sawai Mansingh Stadium',\n",
       " 29: 'Shaheed Veer Narayan Singh International Stadium',\n",
       " 30: 'Sharjah Cricket Stadium',\n",
       " 31: 'Sheikh Zayed Stadium',\n",
       " 32: 'St Georges Park',\n",
       " 33: 'SuperSport Park',\n",
       " 34: 'Vidarbha Cricket Association Stadium Jamtha',\n",
       " 35: 'Wankhede Stadium'}"
      ]
     },
     "execution_count": 83,
     "metadata": {},
     "output_type": "execute_result"
    }
   ],
   "source": [
    "venue_dict = {}\n",
    "for ven in le_venue.classes_:\n",
    "    a = le_venue.transform([ven])[0]\n",
    "    print(\"    <option value='{}'>{}</option>\".format(a,ven))\n",
    "    venue_dict[a] = ven\n",
    "venue_dict"
   ]
  },
  {
   "cell_type": "code",
   "execution_count": null,
   "metadata": {},
   "outputs": [],
   "source": []
  },
  {
   "cell_type": "code",
   "execution_count": null,
   "metadata": {},
   "outputs": [],
   "source": []
  }
 ],
 "metadata": {
  "hide_input": false,
  "kernelspec": {
   "display_name": "Python 3",
   "language": "python",
   "name": "python3"
  },
  "language_info": {
   "codemirror_mode": {
    "name": "ipython",
    "version": 3
   },
   "file_extension": ".py",
   "mimetype": "text/x-python",
   "name": "python",
   "nbconvert_exporter": "python",
   "pygments_lexer": "ipython3",
   "version": "3.8.8"
  },
  "latex_envs": {
   "LaTeX_envs_menu_present": false,
   "autoclose": true,
   "autocomplete": true,
   "bibliofile": "biblio.bib",
   "cite_by": "apalike",
   "current_citInitial": 1,
   "eqLabelWithNumbers": false,
   "eqNumInitial": 1,
   "hotkeys": {
    "equation": "Ctrl-E",
    "itemize": "Ctrl-I"
   },
   "labels_anchors": false,
   "latex_user_defs": false,
   "report_style_numbering": false,
   "user_envs_cfg": false
  },
  "toc": {
   "base_numbering": 1,
   "nav_menu": {},
   "number_sections": true,
   "sideBar": true,
   "skip_h1_title": false,
   "title_cell": "Table of Contents",
   "title_sidebar": "Contents",
   "toc_cell": true,
   "toc_position": {},
   "toc_section_display": true,
   "toc_window_display": false
  },
  "varInspector": {
   "cols": {
    "lenName": 16,
    "lenType": 16,
    "lenVar": 40
   },
   "kernels_config": {
    "python": {
     "delete_cmd_postfix": "",
     "delete_cmd_prefix": "del ",
     "library": "var_list.py",
     "varRefreshCmd": "print(var_dic_list())"
    },
    "r": {
     "delete_cmd_postfix": ") ",
     "delete_cmd_prefix": "rm(",
     "library": "var_list.r",
     "varRefreshCmd": "cat(var_dic_list()) "
    }
   },
   "types_to_exclude": [
    "module",
    "function",
    "builtin_function_or_method",
    "instance",
    "_Feature"
   ],
   "window_display": false
  }
 },
 "nbformat": 4,
 "nbformat_minor": 4
}
